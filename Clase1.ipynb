{
  "cells": [
    {
      "cell_type": "markdown",
      "source": [
        "# **NOTEBOOK DE LA PRIMERA CLASE CON EJERCICIOS REALIZADOS**"
      ],
      "metadata": {
        "id": "ZQ5V0P8CSigz"
      },
      "id": "ZQ5V0P8CSigz"
    },
    {
      "cell_type": "code",
      "execution_count": 1,
      "id": "9fd62e0b-ee2e-48d8-9f27-a0d4605ae0f9",
      "metadata": {
        "id": "9fd62e0b-ee2e-48d8-9f27-a0d4605ae0f9"
      },
      "outputs": [],
      "source": [
        "#Importar las librerias que se van a utilizar\n",
        "import numpy as np\n",
        "import pandas as pd\n",
        "from matplotlib import pyplot as plt"
      ]
    },
    {
      "cell_type": "markdown",
      "id": "b3505d0e-88c7-4b12-8435-9bc2031f4799",
      "metadata": {
        "id": "b3505d0e-88c7-4b12-8435-9bc2031f4799"
      },
      "source": [
        "La Red Automática de Monitoreo Atmosférico (RAMA) es el subsistema del Sistema de Monitoreo Atmosférico de la Ciudad de México (SIMAT) que realiza mediciones continuas y permanentes minuto a minuto de ozono (O3), dióxido de azufre (SO2), óxidos de nitrógeno (NOx), monóxido de carbono (CO), partículas menores a 10 micrómetros (PM10) y partículas menores a 2.5 micrómetros (PM2.5).\n",
        "\n",
        "https://datos.cdmx.gob.mx/dataset/red-automatica-de-monitoreo-atmosferico\n"
      ]
    },
    {
      "cell_type": "markdown",
      "id": "03057227",
      "metadata": {
        "id": "03057227"
      },
      "source": [
        "### 1. Leer los datos (RAMA) y mostrar las primeras 5 entradas\n",
        "\n",
        "\n",
        "Repositorio: https://github.com/jamc88/Analisis-datos-atmosfericos\n",
        "\n",
        "\n",
        "La concentración de un contaminante  se da en microgramos (una millonésima de gramo) por metro cúbico de aire $\\mu$g/$m^3$."
      ]
    },
    {
      "cell_type": "code",
      "execution_count": 2,
      "id": "27e8a216-453b-43eb-b20e-0c5a2777f493",
      "metadata": {
        "id": "27e8a216-453b-43eb-b20e-0c5a2777f493"
      },
      "outputs": [],
      "source": [
        "df = pd.read_csv(\"https://raw.githubusercontent.com/jamc88/Analisis-datos-atmosfericos/refs/heads/main/datos/rama_2023_05.csv\")  #Lee los datos que llama del repositorio"
      ]
    },
    {
      "cell_type": "code",
      "execution_count": 3,
      "id": "6204cd79-f310-4496-8919-ecbd54be29d7",
      "metadata": {
        "colab": {
          "base_uri": "https://localhost:8080/",
          "height": 206
        },
        "id": "6204cd79-f310-4496-8919-ecbd54be29d7",
        "outputId": "3140ab8c-a53f-4caa-d88b-9db1d7245731"
      },
      "outputs": [
        {
          "output_type": "execute_result",
          "data": {
            "text/plain": [
              "        fecha        CO         NO        NO2        NOX         O3  \\\n",
              "0  2015-01-01  1.050696  22.765528  24.225155  46.987578  23.175150   \n",
              "1  2015-01-02  0.807585  32.249608  21.554160  53.800628  17.268366   \n",
              "2  2015-01-03  0.640755  21.686916  19.394081  41.071651  15.486486   \n",
              "3  2015-01-04  0.726940  24.606272  19.560976  44.165505  17.329032   \n",
              "4  2015-01-05  0.530815  11.443182  20.990260  32.439935  14.470588   \n",
              "\n",
              "         PM10       PM25        SO2  \n",
              "0  105.573684  78.953405  11.554723  \n",
              "1   36.687845  15.449438   1.895052  \n",
              "2   29.269022  12.915129   1.436937  \n",
              "3   39.961538  16.838284   1.809061  \n",
              "4   31.855643  12.667774   8.315789  "
            ],
            "text/html": [
              "\n",
              "  <div id=\"df-b54d2054-d031-4d06-9225-0cdff30d5588\" class=\"colab-df-container\">\n",
              "    <div>\n",
              "<style scoped>\n",
              "    .dataframe tbody tr th:only-of-type {\n",
              "        vertical-align: middle;\n",
              "    }\n",
              "\n",
              "    .dataframe tbody tr th {\n",
              "        vertical-align: top;\n",
              "    }\n",
              "\n",
              "    .dataframe thead th {\n",
              "        text-align: right;\n",
              "    }\n",
              "</style>\n",
              "<table border=\"1\" class=\"dataframe\">\n",
              "  <thead>\n",
              "    <tr style=\"text-align: right;\">\n",
              "      <th></th>\n",
              "      <th>fecha</th>\n",
              "      <th>CO</th>\n",
              "      <th>NO</th>\n",
              "      <th>NO2</th>\n",
              "      <th>NOX</th>\n",
              "      <th>O3</th>\n",
              "      <th>PM10</th>\n",
              "      <th>PM25</th>\n",
              "      <th>SO2</th>\n",
              "    </tr>\n",
              "  </thead>\n",
              "  <tbody>\n",
              "    <tr>\n",
              "      <th>0</th>\n",
              "      <td>2015-01-01</td>\n",
              "      <td>1.050696</td>\n",
              "      <td>22.765528</td>\n",
              "      <td>24.225155</td>\n",
              "      <td>46.987578</td>\n",
              "      <td>23.175150</td>\n",
              "      <td>105.573684</td>\n",
              "      <td>78.953405</td>\n",
              "      <td>11.554723</td>\n",
              "    </tr>\n",
              "    <tr>\n",
              "      <th>1</th>\n",
              "      <td>2015-01-02</td>\n",
              "      <td>0.807585</td>\n",
              "      <td>32.249608</td>\n",
              "      <td>21.554160</td>\n",
              "      <td>53.800628</td>\n",
              "      <td>17.268366</td>\n",
              "      <td>36.687845</td>\n",
              "      <td>15.449438</td>\n",
              "      <td>1.895052</td>\n",
              "    </tr>\n",
              "    <tr>\n",
              "      <th>2</th>\n",
              "      <td>2015-01-03</td>\n",
              "      <td>0.640755</td>\n",
              "      <td>21.686916</td>\n",
              "      <td>19.394081</td>\n",
              "      <td>41.071651</td>\n",
              "      <td>15.486486</td>\n",
              "      <td>29.269022</td>\n",
              "      <td>12.915129</td>\n",
              "      <td>1.436937</td>\n",
              "    </tr>\n",
              "    <tr>\n",
              "      <th>3</th>\n",
              "      <td>2015-01-04</td>\n",
              "      <td>0.726940</td>\n",
              "      <td>24.606272</td>\n",
              "      <td>19.560976</td>\n",
              "      <td>44.165505</td>\n",
              "      <td>17.329032</td>\n",
              "      <td>39.961538</td>\n",
              "      <td>16.838284</td>\n",
              "      <td>1.809061</td>\n",
              "    </tr>\n",
              "    <tr>\n",
              "      <th>4</th>\n",
              "      <td>2015-01-05</td>\n",
              "      <td>0.530815</td>\n",
              "      <td>11.443182</td>\n",
              "      <td>20.990260</td>\n",
              "      <td>32.439935</td>\n",
              "      <td>14.470588</td>\n",
              "      <td>31.855643</td>\n",
              "      <td>12.667774</td>\n",
              "      <td>8.315789</td>\n",
              "    </tr>\n",
              "  </tbody>\n",
              "</table>\n",
              "</div>\n",
              "    <div class=\"colab-df-buttons\">\n",
              "\n",
              "  <div class=\"colab-df-container\">\n",
              "    <button class=\"colab-df-convert\" onclick=\"convertToInteractive('df-b54d2054-d031-4d06-9225-0cdff30d5588')\"\n",
              "            title=\"Convert this dataframe to an interactive table.\"\n",
              "            style=\"display:none;\">\n",
              "\n",
              "  <svg xmlns=\"http://www.w3.org/2000/svg\" height=\"24px\" viewBox=\"0 -960 960 960\">\n",
              "    <path d=\"M120-120v-720h720v720H120Zm60-500h600v-160H180v160Zm220 220h160v-160H400v160Zm0 220h160v-160H400v160ZM180-400h160v-160H180v160Zm440 0h160v-160H620v160ZM180-180h160v-160H180v160Zm440 0h160v-160H620v160Z\"/>\n",
              "  </svg>\n",
              "    </button>\n",
              "\n",
              "  <style>\n",
              "    .colab-df-container {\n",
              "      display:flex;\n",
              "      gap: 12px;\n",
              "    }\n",
              "\n",
              "    .colab-df-convert {\n",
              "      background-color: #E8F0FE;\n",
              "      border: none;\n",
              "      border-radius: 50%;\n",
              "      cursor: pointer;\n",
              "      display: none;\n",
              "      fill: #1967D2;\n",
              "      height: 32px;\n",
              "      padding: 0 0 0 0;\n",
              "      width: 32px;\n",
              "    }\n",
              "\n",
              "    .colab-df-convert:hover {\n",
              "      background-color: #E2EBFA;\n",
              "      box-shadow: 0px 1px 2px rgba(60, 64, 67, 0.3), 0px 1px 3px 1px rgba(60, 64, 67, 0.15);\n",
              "      fill: #174EA6;\n",
              "    }\n",
              "\n",
              "    .colab-df-buttons div {\n",
              "      margin-bottom: 4px;\n",
              "    }\n",
              "\n",
              "    [theme=dark] .colab-df-convert {\n",
              "      background-color: #3B4455;\n",
              "      fill: #D2E3FC;\n",
              "    }\n",
              "\n",
              "    [theme=dark] .colab-df-convert:hover {\n",
              "      background-color: #434B5C;\n",
              "      box-shadow: 0px 1px 3px 1px rgba(0, 0, 0, 0.15);\n",
              "      filter: drop-shadow(0px 1px 2px rgba(0, 0, 0, 0.3));\n",
              "      fill: #FFFFFF;\n",
              "    }\n",
              "  </style>\n",
              "\n",
              "    <script>\n",
              "      const buttonEl =\n",
              "        document.querySelector('#df-b54d2054-d031-4d06-9225-0cdff30d5588 button.colab-df-convert');\n",
              "      buttonEl.style.display =\n",
              "        google.colab.kernel.accessAllowed ? 'block' : 'none';\n",
              "\n",
              "      async function convertToInteractive(key) {\n",
              "        const element = document.querySelector('#df-b54d2054-d031-4d06-9225-0cdff30d5588');\n",
              "        const dataTable =\n",
              "          await google.colab.kernel.invokeFunction('convertToInteractive',\n",
              "                                                    [key], {});\n",
              "        if (!dataTable) return;\n",
              "\n",
              "        const docLinkHtml = 'Like what you see? Visit the ' +\n",
              "          '<a target=\"_blank\" href=https://colab.research.google.com/notebooks/data_table.ipynb>data table notebook</a>'\n",
              "          + ' to learn more about interactive tables.';\n",
              "        element.innerHTML = '';\n",
              "        dataTable['output_type'] = 'display_data';\n",
              "        await google.colab.output.renderOutput(dataTable, element);\n",
              "        const docLink = document.createElement('div');\n",
              "        docLink.innerHTML = docLinkHtml;\n",
              "        element.appendChild(docLink);\n",
              "      }\n",
              "    </script>\n",
              "  </div>\n",
              "\n",
              "\n",
              "<div id=\"df-3fadda60-fcbc-4992-89c0-9607e0977a6b\">\n",
              "  <button class=\"colab-df-quickchart\" onclick=\"quickchart('df-3fadda60-fcbc-4992-89c0-9607e0977a6b')\"\n",
              "            title=\"Suggest charts\"\n",
              "            style=\"display:none;\">\n",
              "\n",
              "<svg xmlns=\"http://www.w3.org/2000/svg\" height=\"24px\"viewBox=\"0 0 24 24\"\n",
              "     width=\"24px\">\n",
              "    <g>\n",
              "        <path d=\"M19 3H5c-1.1 0-2 .9-2 2v14c0 1.1.9 2 2 2h14c1.1 0 2-.9 2-2V5c0-1.1-.9-2-2-2zM9 17H7v-7h2v7zm4 0h-2V7h2v10zm4 0h-2v-4h2v4z\"/>\n",
              "    </g>\n",
              "</svg>\n",
              "  </button>\n",
              "\n",
              "<style>\n",
              "  .colab-df-quickchart {\n",
              "      --bg-color: #E8F0FE;\n",
              "      --fill-color: #1967D2;\n",
              "      --hover-bg-color: #E2EBFA;\n",
              "      --hover-fill-color: #174EA6;\n",
              "      --disabled-fill-color: #AAA;\n",
              "      --disabled-bg-color: #DDD;\n",
              "  }\n",
              "\n",
              "  [theme=dark] .colab-df-quickchart {\n",
              "      --bg-color: #3B4455;\n",
              "      --fill-color: #D2E3FC;\n",
              "      --hover-bg-color: #434B5C;\n",
              "      --hover-fill-color: #FFFFFF;\n",
              "      --disabled-bg-color: #3B4455;\n",
              "      --disabled-fill-color: #666;\n",
              "  }\n",
              "\n",
              "  .colab-df-quickchart {\n",
              "    background-color: var(--bg-color);\n",
              "    border: none;\n",
              "    border-radius: 50%;\n",
              "    cursor: pointer;\n",
              "    display: none;\n",
              "    fill: var(--fill-color);\n",
              "    height: 32px;\n",
              "    padding: 0;\n",
              "    width: 32px;\n",
              "  }\n",
              "\n",
              "  .colab-df-quickchart:hover {\n",
              "    background-color: var(--hover-bg-color);\n",
              "    box-shadow: 0 1px 2px rgba(60, 64, 67, 0.3), 0 1px 3px 1px rgba(60, 64, 67, 0.15);\n",
              "    fill: var(--button-hover-fill-color);\n",
              "  }\n",
              "\n",
              "  .colab-df-quickchart-complete:disabled,\n",
              "  .colab-df-quickchart-complete:disabled:hover {\n",
              "    background-color: var(--disabled-bg-color);\n",
              "    fill: var(--disabled-fill-color);\n",
              "    box-shadow: none;\n",
              "  }\n",
              "\n",
              "  .colab-df-spinner {\n",
              "    border: 2px solid var(--fill-color);\n",
              "    border-color: transparent;\n",
              "    border-bottom-color: var(--fill-color);\n",
              "    animation:\n",
              "      spin 1s steps(1) infinite;\n",
              "  }\n",
              "\n",
              "  @keyframes spin {\n",
              "    0% {\n",
              "      border-color: transparent;\n",
              "      border-bottom-color: var(--fill-color);\n",
              "      border-left-color: var(--fill-color);\n",
              "    }\n",
              "    20% {\n",
              "      border-color: transparent;\n",
              "      border-left-color: var(--fill-color);\n",
              "      border-top-color: var(--fill-color);\n",
              "    }\n",
              "    30% {\n",
              "      border-color: transparent;\n",
              "      border-left-color: var(--fill-color);\n",
              "      border-top-color: var(--fill-color);\n",
              "      border-right-color: var(--fill-color);\n",
              "    }\n",
              "    40% {\n",
              "      border-color: transparent;\n",
              "      border-right-color: var(--fill-color);\n",
              "      border-top-color: var(--fill-color);\n",
              "    }\n",
              "    60% {\n",
              "      border-color: transparent;\n",
              "      border-right-color: var(--fill-color);\n",
              "    }\n",
              "    80% {\n",
              "      border-color: transparent;\n",
              "      border-right-color: var(--fill-color);\n",
              "      border-bottom-color: var(--fill-color);\n",
              "    }\n",
              "    90% {\n",
              "      border-color: transparent;\n",
              "      border-bottom-color: var(--fill-color);\n",
              "    }\n",
              "  }\n",
              "</style>\n",
              "\n",
              "  <script>\n",
              "    async function quickchart(key) {\n",
              "      const quickchartButtonEl =\n",
              "        document.querySelector('#' + key + ' button');\n",
              "      quickchartButtonEl.disabled = true;  // To prevent multiple clicks.\n",
              "      quickchartButtonEl.classList.add('colab-df-spinner');\n",
              "      try {\n",
              "        const charts = await google.colab.kernel.invokeFunction(\n",
              "            'suggestCharts', [key], {});\n",
              "      } catch (error) {\n",
              "        console.error('Error during call to suggestCharts:', error);\n",
              "      }\n",
              "      quickchartButtonEl.classList.remove('colab-df-spinner');\n",
              "      quickchartButtonEl.classList.add('colab-df-quickchart-complete');\n",
              "    }\n",
              "    (() => {\n",
              "      let quickchartButtonEl =\n",
              "        document.querySelector('#df-3fadda60-fcbc-4992-89c0-9607e0977a6b button');\n",
              "      quickchartButtonEl.style.display =\n",
              "        google.colab.kernel.accessAllowed ? 'block' : 'none';\n",
              "    })();\n",
              "  </script>\n",
              "</div>\n",
              "\n",
              "    </div>\n",
              "  </div>\n"
            ],
            "application/vnd.google.colaboratory.intrinsic+json": {
              "type": "dataframe",
              "variable_name": "df",
              "summary": "{\n  \"name\": \"df\",\n  \"rows\": 3073,\n  \"fields\": [\n    {\n      \"column\": \"fecha\",\n      \"properties\": {\n        \"dtype\": \"object\",\n        \"num_unique_values\": 3073,\n        \"samples\": [\n          \"2022-05-21\",\n          \"2019-10-23\",\n          \"2021-12-04\"\n        ],\n        \"semantic_type\": \"\",\n        \"description\": \"\"\n      }\n    },\n    {\n      \"column\": \"CO\",\n      \"properties\": {\n        \"dtype\": \"number\",\n        \"std\": 0.20518059558318696,\n        \"min\": 0.1159166666666666,\n        \"max\": 1.8318181818181816,\n        \"num_unique_values\": 3069,\n        \"samples\": [\n          0.513358925143954,\n          0.2528846153846154,\n          0.5097292069632495\n        ],\n        \"semantic_type\": \"\",\n        \"description\": \"\"\n      }\n    },\n    {\n      \"column\": \"NO\",\n      \"properties\": {\n        \"dtype\": \"number\",\n        \"std\": 8.857507025394465,\n        \"min\": 1.168,\n        \"max\": 75.80654761904762,\n        \"num_unique_values\": 3067,\n        \"samples\": [\n          14.405679513184584,\n          24.870848708487085,\n          9.754347826086956\n        ],\n        \"semantic_type\": \"\",\n        \"description\": \"\"\n      }\n    },\n    {\n      \"column\": \"NO2\",\n      \"properties\": {\n        \"dtype\": \"number\",\n        \"std\": 6.754973355504539,\n        \"min\": 8.061630218687872,\n        \"max\": 72.19345238095238,\n        \"num_unique_values\": 3064,\n        \"samples\": [\n          19.96414342629482,\n          29.042435424354245,\n          30.06490872210953\n        ],\n        \"semantic_type\": \"\",\n        \"description\": \"\"\n      }\n    },\n    {\n      \"column\": \"NOX\",\n      \"properties\": {\n        \"dtype\": \"number\",\n        \"std\": 14.795599059255391,\n        \"min\": 9.983402489626556,\n        \"max\": 148.00595238095238,\n        \"num_unique_values\": 3070,\n        \"samples\": [\n          80.06666666666666,\n          34.78727634194831,\n          30.5251509054326\n        ],\n        \"semantic_type\": \"\",\n        \"description\": \"\"\n      }\n    },\n    {\n      \"column\": \"O3\",\n      \"properties\": {\n        \"dtype\": \"number\",\n        \"std\": 9.023384402438458,\n        \"min\": 3.2260536398467434,\n        \"max\": 67.44375,\n        \"num_unique_values\": 3070,\n        \"samples\": [\n          33.8023088023088,\n          21.24496124031008,\n          28.7117903930131\n        ],\n        \"semantic_type\": \"\",\n        \"description\": \"\"\n      }\n    },\n    {\n      \"column\": \"PM10\",\n      \"properties\": {\n        \"dtype\": \"number\",\n        \"std\": 16.047341760988232,\n        \"min\": 8.218487394957982,\n        \"max\": 115.33407079646018,\n        \"num_unique_values\": 3071,\n        \"samples\": [\n          55.52331606217616,\n          27.098039215686278,\n          49.0\n        ],\n        \"semantic_type\": \"\",\n        \"description\": \"\"\n      }\n    },\n    {\n      \"column\": \"PM25\",\n      \"properties\": {\n        \"dtype\": \"number\",\n        \"std\": 8.79612193146456,\n        \"min\": 2.8493150684931505,\n        \"max\": 86.90990990990991,\n        \"num_unique_values\": 3066,\n        \"samples\": [\n          19.03846153846154,\n          23.93484419263456,\n          26.573529411764707\n        ],\n        \"semantic_type\": \"\",\n        \"description\": \"\"\n      }\n    },\n    {\n      \"column\": \"SO2\",\n      \"properties\": {\n        \"dtype\": \"number\",\n        \"std\": 3.4902767591330317,\n        \"min\": 0.6304347826086957,\n        \"max\": 31.46174142480211,\n        \"num_unique_values\": 3051,\n        \"samples\": [\n          1.2477678571428572,\n          2.462235649546828,\n          1.370722433460076\n        ],\n        \"semantic_type\": \"\",\n        \"description\": \"\"\n      }\n    }\n  ]\n}"
            }
          },
          "metadata": {},
          "execution_count": 3
        }
      ],
      "source": [
        "df.head() #Muestra los primeros datos"
      ]
    },
    {
      "cell_type": "code",
      "execution_count": 4,
      "id": "731c91e1-838f-4d27-aa56-15915ec9f11c",
      "metadata": {
        "colab": {
          "base_uri": "https://localhost:8080/",
          "height": 206
        },
        "id": "731c91e1-838f-4d27-aa56-15915ec9f11c",
        "outputId": "f9f9273d-8702-4b2f-a496-a937c7357839"
      },
      "outputs": [
        {
          "output_type": "execute_result",
          "data": {
            "text/plain": [
              "           fecha        CO         NO        NO2        NOX         O3  \\\n",
              "3068  2023-05-27  0.256722   3.750583  17.284351  21.629371  41.580645   \n",
              "3069  2023-05-28  0.286826   3.458886  16.349241  20.230769  36.913761   \n",
              "3070  2023-05-29  0.482077  11.448113  24.521154  36.436321  29.697068   \n",
              "3071  2023-05-30  0.441455  13.893519  22.615530  37.224537  36.185971   \n",
              "3072  2023-05-31  0.340404   5.353066  19.372583  25.710359  47.860972   \n",
              "\n",
              "           PM10       PM25       SO2  \n",
              "3068  36.774011  21.170139  2.735683  \n",
              "3069  28.580000  18.454861  2.331658  \n",
              "3070  30.241486  16.692857  1.071588  \n",
              "3071  35.859532  20.888525  1.181818  \n",
              "3072  42.203390  24.787097  1.402083  "
            ],
            "text/html": [
              "\n",
              "  <div id=\"df-34ca3ed4-83c8-4c1f-9204-8ef2063f8013\" class=\"colab-df-container\">\n",
              "    <div>\n",
              "<style scoped>\n",
              "    .dataframe tbody tr th:only-of-type {\n",
              "        vertical-align: middle;\n",
              "    }\n",
              "\n",
              "    .dataframe tbody tr th {\n",
              "        vertical-align: top;\n",
              "    }\n",
              "\n",
              "    .dataframe thead th {\n",
              "        text-align: right;\n",
              "    }\n",
              "</style>\n",
              "<table border=\"1\" class=\"dataframe\">\n",
              "  <thead>\n",
              "    <tr style=\"text-align: right;\">\n",
              "      <th></th>\n",
              "      <th>fecha</th>\n",
              "      <th>CO</th>\n",
              "      <th>NO</th>\n",
              "      <th>NO2</th>\n",
              "      <th>NOX</th>\n",
              "      <th>O3</th>\n",
              "      <th>PM10</th>\n",
              "      <th>PM25</th>\n",
              "      <th>SO2</th>\n",
              "    </tr>\n",
              "  </thead>\n",
              "  <tbody>\n",
              "    <tr>\n",
              "      <th>3068</th>\n",
              "      <td>2023-05-27</td>\n",
              "      <td>0.256722</td>\n",
              "      <td>3.750583</td>\n",
              "      <td>17.284351</td>\n",
              "      <td>21.629371</td>\n",
              "      <td>41.580645</td>\n",
              "      <td>36.774011</td>\n",
              "      <td>21.170139</td>\n",
              "      <td>2.735683</td>\n",
              "    </tr>\n",
              "    <tr>\n",
              "      <th>3069</th>\n",
              "      <td>2023-05-28</td>\n",
              "      <td>0.286826</td>\n",
              "      <td>3.458886</td>\n",
              "      <td>16.349241</td>\n",
              "      <td>20.230769</td>\n",
              "      <td>36.913761</td>\n",
              "      <td>28.580000</td>\n",
              "      <td>18.454861</td>\n",
              "      <td>2.331658</td>\n",
              "    </tr>\n",
              "    <tr>\n",
              "      <th>3070</th>\n",
              "      <td>2023-05-29</td>\n",
              "      <td>0.482077</td>\n",
              "      <td>11.448113</td>\n",
              "      <td>24.521154</td>\n",
              "      <td>36.436321</td>\n",
              "      <td>29.697068</td>\n",
              "      <td>30.241486</td>\n",
              "      <td>16.692857</td>\n",
              "      <td>1.071588</td>\n",
              "    </tr>\n",
              "    <tr>\n",
              "      <th>3071</th>\n",
              "      <td>2023-05-30</td>\n",
              "      <td>0.441455</td>\n",
              "      <td>13.893519</td>\n",
              "      <td>22.615530</td>\n",
              "      <td>37.224537</td>\n",
              "      <td>36.185971</td>\n",
              "      <td>35.859532</td>\n",
              "      <td>20.888525</td>\n",
              "      <td>1.181818</td>\n",
              "    </tr>\n",
              "    <tr>\n",
              "      <th>3072</th>\n",
              "      <td>2023-05-31</td>\n",
              "      <td>0.340404</td>\n",
              "      <td>5.353066</td>\n",
              "      <td>19.372583</td>\n",
              "      <td>25.710359</td>\n",
              "      <td>47.860972</td>\n",
              "      <td>42.203390</td>\n",
              "      <td>24.787097</td>\n",
              "      <td>1.402083</td>\n",
              "    </tr>\n",
              "  </tbody>\n",
              "</table>\n",
              "</div>\n",
              "    <div class=\"colab-df-buttons\">\n",
              "\n",
              "  <div class=\"colab-df-container\">\n",
              "    <button class=\"colab-df-convert\" onclick=\"convertToInteractive('df-34ca3ed4-83c8-4c1f-9204-8ef2063f8013')\"\n",
              "            title=\"Convert this dataframe to an interactive table.\"\n",
              "            style=\"display:none;\">\n",
              "\n",
              "  <svg xmlns=\"http://www.w3.org/2000/svg\" height=\"24px\" viewBox=\"0 -960 960 960\">\n",
              "    <path d=\"M120-120v-720h720v720H120Zm60-500h600v-160H180v160Zm220 220h160v-160H400v160Zm0 220h160v-160H400v160ZM180-400h160v-160H180v160Zm440 0h160v-160H620v160ZM180-180h160v-160H180v160Zm440 0h160v-160H620v160Z\"/>\n",
              "  </svg>\n",
              "    </button>\n",
              "\n",
              "  <style>\n",
              "    .colab-df-container {\n",
              "      display:flex;\n",
              "      gap: 12px;\n",
              "    }\n",
              "\n",
              "    .colab-df-convert {\n",
              "      background-color: #E8F0FE;\n",
              "      border: none;\n",
              "      border-radius: 50%;\n",
              "      cursor: pointer;\n",
              "      display: none;\n",
              "      fill: #1967D2;\n",
              "      height: 32px;\n",
              "      padding: 0 0 0 0;\n",
              "      width: 32px;\n",
              "    }\n",
              "\n",
              "    .colab-df-convert:hover {\n",
              "      background-color: #E2EBFA;\n",
              "      box-shadow: 0px 1px 2px rgba(60, 64, 67, 0.3), 0px 1px 3px 1px rgba(60, 64, 67, 0.15);\n",
              "      fill: #174EA6;\n",
              "    }\n",
              "\n",
              "    .colab-df-buttons div {\n",
              "      margin-bottom: 4px;\n",
              "    }\n",
              "\n",
              "    [theme=dark] .colab-df-convert {\n",
              "      background-color: #3B4455;\n",
              "      fill: #D2E3FC;\n",
              "    }\n",
              "\n",
              "    [theme=dark] .colab-df-convert:hover {\n",
              "      background-color: #434B5C;\n",
              "      box-shadow: 0px 1px 3px 1px rgba(0, 0, 0, 0.15);\n",
              "      filter: drop-shadow(0px 1px 2px rgba(0, 0, 0, 0.3));\n",
              "      fill: #FFFFFF;\n",
              "    }\n",
              "  </style>\n",
              "\n",
              "    <script>\n",
              "      const buttonEl =\n",
              "        document.querySelector('#df-34ca3ed4-83c8-4c1f-9204-8ef2063f8013 button.colab-df-convert');\n",
              "      buttonEl.style.display =\n",
              "        google.colab.kernel.accessAllowed ? 'block' : 'none';\n",
              "\n",
              "      async function convertToInteractive(key) {\n",
              "        const element = document.querySelector('#df-34ca3ed4-83c8-4c1f-9204-8ef2063f8013');\n",
              "        const dataTable =\n",
              "          await google.colab.kernel.invokeFunction('convertToInteractive',\n",
              "                                                    [key], {});\n",
              "        if (!dataTable) return;\n",
              "\n",
              "        const docLinkHtml = 'Like what you see? Visit the ' +\n",
              "          '<a target=\"_blank\" href=https://colab.research.google.com/notebooks/data_table.ipynb>data table notebook</a>'\n",
              "          + ' to learn more about interactive tables.';\n",
              "        element.innerHTML = '';\n",
              "        dataTable['output_type'] = 'display_data';\n",
              "        await google.colab.output.renderOutput(dataTable, element);\n",
              "        const docLink = document.createElement('div');\n",
              "        docLink.innerHTML = docLinkHtml;\n",
              "        element.appendChild(docLink);\n",
              "      }\n",
              "    </script>\n",
              "  </div>\n",
              "\n",
              "\n",
              "<div id=\"df-7c02a63f-438e-43d0-8c2b-ee9921547009\">\n",
              "  <button class=\"colab-df-quickchart\" onclick=\"quickchart('df-7c02a63f-438e-43d0-8c2b-ee9921547009')\"\n",
              "            title=\"Suggest charts\"\n",
              "            style=\"display:none;\">\n",
              "\n",
              "<svg xmlns=\"http://www.w3.org/2000/svg\" height=\"24px\"viewBox=\"0 0 24 24\"\n",
              "     width=\"24px\">\n",
              "    <g>\n",
              "        <path d=\"M19 3H5c-1.1 0-2 .9-2 2v14c0 1.1.9 2 2 2h14c1.1 0 2-.9 2-2V5c0-1.1-.9-2-2-2zM9 17H7v-7h2v7zm4 0h-2V7h2v10zm4 0h-2v-4h2v4z\"/>\n",
              "    </g>\n",
              "</svg>\n",
              "  </button>\n",
              "\n",
              "<style>\n",
              "  .colab-df-quickchart {\n",
              "      --bg-color: #E8F0FE;\n",
              "      --fill-color: #1967D2;\n",
              "      --hover-bg-color: #E2EBFA;\n",
              "      --hover-fill-color: #174EA6;\n",
              "      --disabled-fill-color: #AAA;\n",
              "      --disabled-bg-color: #DDD;\n",
              "  }\n",
              "\n",
              "  [theme=dark] .colab-df-quickchart {\n",
              "      --bg-color: #3B4455;\n",
              "      --fill-color: #D2E3FC;\n",
              "      --hover-bg-color: #434B5C;\n",
              "      --hover-fill-color: #FFFFFF;\n",
              "      --disabled-bg-color: #3B4455;\n",
              "      --disabled-fill-color: #666;\n",
              "  }\n",
              "\n",
              "  .colab-df-quickchart {\n",
              "    background-color: var(--bg-color);\n",
              "    border: none;\n",
              "    border-radius: 50%;\n",
              "    cursor: pointer;\n",
              "    display: none;\n",
              "    fill: var(--fill-color);\n",
              "    height: 32px;\n",
              "    padding: 0;\n",
              "    width: 32px;\n",
              "  }\n",
              "\n",
              "  .colab-df-quickchart:hover {\n",
              "    background-color: var(--hover-bg-color);\n",
              "    box-shadow: 0 1px 2px rgba(60, 64, 67, 0.3), 0 1px 3px 1px rgba(60, 64, 67, 0.15);\n",
              "    fill: var(--button-hover-fill-color);\n",
              "  }\n",
              "\n",
              "  .colab-df-quickchart-complete:disabled,\n",
              "  .colab-df-quickchart-complete:disabled:hover {\n",
              "    background-color: var(--disabled-bg-color);\n",
              "    fill: var(--disabled-fill-color);\n",
              "    box-shadow: none;\n",
              "  }\n",
              "\n",
              "  .colab-df-spinner {\n",
              "    border: 2px solid var(--fill-color);\n",
              "    border-color: transparent;\n",
              "    border-bottom-color: var(--fill-color);\n",
              "    animation:\n",
              "      spin 1s steps(1) infinite;\n",
              "  }\n",
              "\n",
              "  @keyframes spin {\n",
              "    0% {\n",
              "      border-color: transparent;\n",
              "      border-bottom-color: var(--fill-color);\n",
              "      border-left-color: var(--fill-color);\n",
              "    }\n",
              "    20% {\n",
              "      border-color: transparent;\n",
              "      border-left-color: var(--fill-color);\n",
              "      border-top-color: var(--fill-color);\n",
              "    }\n",
              "    30% {\n",
              "      border-color: transparent;\n",
              "      border-left-color: var(--fill-color);\n",
              "      border-top-color: var(--fill-color);\n",
              "      border-right-color: var(--fill-color);\n",
              "    }\n",
              "    40% {\n",
              "      border-color: transparent;\n",
              "      border-right-color: var(--fill-color);\n",
              "      border-top-color: var(--fill-color);\n",
              "    }\n",
              "    60% {\n",
              "      border-color: transparent;\n",
              "      border-right-color: var(--fill-color);\n",
              "    }\n",
              "    80% {\n",
              "      border-color: transparent;\n",
              "      border-right-color: var(--fill-color);\n",
              "      border-bottom-color: var(--fill-color);\n",
              "    }\n",
              "    90% {\n",
              "      border-color: transparent;\n",
              "      border-bottom-color: var(--fill-color);\n",
              "    }\n",
              "  }\n",
              "</style>\n",
              "\n",
              "  <script>\n",
              "    async function quickchart(key) {\n",
              "      const quickchartButtonEl =\n",
              "        document.querySelector('#' + key + ' button');\n",
              "      quickchartButtonEl.disabled = true;  // To prevent multiple clicks.\n",
              "      quickchartButtonEl.classList.add('colab-df-spinner');\n",
              "      try {\n",
              "        const charts = await google.colab.kernel.invokeFunction(\n",
              "            'suggestCharts', [key], {});\n",
              "      } catch (error) {\n",
              "        console.error('Error during call to suggestCharts:', error);\n",
              "      }\n",
              "      quickchartButtonEl.classList.remove('colab-df-spinner');\n",
              "      quickchartButtonEl.classList.add('colab-df-quickchart-complete');\n",
              "    }\n",
              "    (() => {\n",
              "      let quickchartButtonEl =\n",
              "        document.querySelector('#df-7c02a63f-438e-43d0-8c2b-ee9921547009 button');\n",
              "      quickchartButtonEl.style.display =\n",
              "        google.colab.kernel.accessAllowed ? 'block' : 'none';\n",
              "    })();\n",
              "  </script>\n",
              "</div>\n",
              "\n",
              "    </div>\n",
              "  </div>\n"
            ],
            "application/vnd.google.colaboratory.intrinsic+json": {
              "type": "dataframe",
              "repr_error": "0"
            }
          },
          "metadata": {},
          "execution_count": 4
        }
      ],
      "source": [
        "df.tail() #Muestra los ultimos datos"
      ]
    },
    {
      "cell_type": "code",
      "execution_count": 5,
      "id": "4bb7fbc6-c60e-4b59-a006-daa3e44a8c6d",
      "metadata": {
        "colab": {
          "base_uri": "https://localhost:8080/"
        },
        "id": "4bb7fbc6-c60e-4b59-a006-daa3e44a8c6d",
        "outputId": "e4dd150c-fb24-4c0e-e39d-db6c0006509c"
      },
      "outputs": [
        {
          "output_type": "stream",
          "name": "stdout",
          "text": [
            "<class 'pandas.core.frame.DataFrame'>\n",
            "RangeIndex: 3073 entries, 0 to 3072\n",
            "Data columns (total 9 columns):\n",
            " #   Column  Non-Null Count  Dtype  \n",
            "---  ------  --------------  -----  \n",
            " 0   fecha   3073 non-null   object \n",
            " 1   CO      3073 non-null   float64\n",
            " 2   NO      3073 non-null   float64\n",
            " 3   NO2     3073 non-null   float64\n",
            " 4   NOX     3073 non-null   float64\n",
            " 5   O3      3073 non-null   float64\n",
            " 6   PM10    3073 non-null   float64\n",
            " 7   PM25    3073 non-null   float64\n",
            " 8   SO2     3073 non-null   float64\n",
            "dtypes: float64(8), object(1)\n",
            "memory usage: 216.2+ KB\n"
          ]
        }
      ],
      "source": [
        "df.info() #Proporciona información del DataFrame"
      ]
    },
    {
      "cell_type": "code",
      "source": [
        "df.columns #Muestra las columnas"
      ],
      "metadata": {
        "colab": {
          "base_uri": "https://localhost:8080/"
        },
        "id": "RIjGBj995pnn",
        "outputId": "834b25cf-c5a0-49e4-ea48-b81fb5d7adb3"
      },
      "id": "RIjGBj995pnn",
      "execution_count": 6,
      "outputs": [
        {
          "output_type": "execute_result",
          "data": {
            "text/plain": [
              "Index(['fecha', 'CO', 'NO', 'NO2', 'NOX', 'O3', 'PM10', 'PM25', 'SO2'], dtype='object')"
            ]
          },
          "metadata": {},
          "execution_count": 6
        }
      ]
    },
    {
      "cell_type": "markdown",
      "id": "5fecb885-2cc1-4289-902a-7bc3ff732035",
      "metadata": {
        "id": "5fecb885-2cc1-4289-902a-7bc3ff732035"
      },
      "source": [
        "## Estadísticos Básicos"
      ]
    },
    {
      "cell_type": "markdown",
      "id": "d3537cf6-b980-445e-a660-42b45534f9e3",
      "metadata": {
        "id": "d3537cf6-b980-445e-a660-42b45534f9e3"
      },
      "source": [
        "* La **media aritmética (o promedio)** de una muestra de $n$ mediciones  es igual a la suma de las mediciones dividida entre $n$.\n",
        "\n",
        "$$\n",
        "\\overline{x}=\\frac{1}{n}\\sum_{i=1}^n x_i\n",
        "$$\n",
        "\n",
        "* La **mediana m**  de un conjunto de $n$ mediciones es el valor de $x$ que cae en la posición media cuando las mediciones son ordenadas de menor a mayor.\n",
        "\n",
        "* La **varianza** de una muestra de $n$ mediciones es la suma de las desviaciones cuadradas de las mediciones alrededor la media $\\overline{x}$ dividida entre $(n-1)$.  La varianza muestral se denota con $s^2$ y está dada por:\n",
        "$$\n",
        "s^2 = \\frac{\\sum_{i=1}^n (x_i-\\overline{x})^2}{n-1}\n",
        "$$\n",
        "\n",
        "* La **desviación estándar** de un conjunto de mediciones es igual a la raíz cuadrada positiva de la varianza."
      ]
    },
    {
      "cell_type": "markdown",
      "id": "9d3ac288-10a0-4c03-8abd-f4aa71a50ce6",
      "metadata": {
        "id": "9d3ac288-10a0-4c03-8abd-f4aa71a50ce6"
      },
      "source": [
        "### **Ejercicio:** Calcular la media, mediana, varianza y desviación estándar para el CO"
      ]
    },
    {
      "cell_type": "code",
      "execution_count": 9,
      "id": "374900dc-b65a-4f28-9258-dc1de69f79eb",
      "metadata": {
        "id": "374900dc-b65a-4f28-9258-dc1de69f79eb",
        "colab": {
          "base_uri": "https://localhost:8080/"
        },
        "outputId": "55a88787-00fa-4893-f0b9-aa507e5d9133"
      },
      "outputs": [
        {
          "output_type": "execute_result",
          "data": {
            "text/plain": [
              "0.4820829293961741"
            ]
          },
          "metadata": {},
          "execution_count": 9
        }
      ],
      "source": [
        "media=(df['CO'] .sum())/3072  #Calcula la media, sumando y dividiendo entre el total\n",
        "#media= df['CO']. median()    Calcula la media con una función de python\n",
        "media"
      ]
    },
    {
      "cell_type": "code",
      "execution_count": 10,
      "id": "c849d52b-c99c-4cc7-b75c-fc6a3728881a",
      "metadata": {
        "id": "c849d52b-c99c-4cc7-b75c-fc6a3728881a",
        "colab": {
          "base_uri": "https://localhost:8080/"
        },
        "outputId": "e2526ed5-1fc3-432c-86f0-9008b4c03a31"
      },
      "outputs": [
        {
          "output_type": "execute_result",
          "data": {
            "text/plain": [
              "0.4819260524259833"
            ]
          },
          "metadata": {},
          "execution_count": 10
        }
      ],
      "source": [
        "mediana=df['CO'].mean()  #Calcula la mediana\n",
        "mediana"
      ]
    },
    {
      "cell_type": "code",
      "execution_count": 11,
      "id": "4c4cef34",
      "metadata": {
        "id": "4c4cef34",
        "colab": {
          "base_uri": "https://localhost:8080/"
        },
        "outputId": "e63389d8-c901-46c3-8cf6-5f6712e5e82a"
      },
      "outputs": [
        {
          "output_type": "execute_result",
          "data": {
            "text/plain": [
              "0.04209907680387132"
            ]
          },
          "metadata": {},
          "execution_count": 11
        }
      ],
      "source": [
        "varianza=df['CO'].var() #Calcula la varianza\n",
        "varianza"
      ]
    },
    {
      "cell_type": "markdown",
      "id": "f89adcb6",
      "metadata": {
        "id": "f89adcb6"
      },
      "source": [
        "## Resumen de 5 numeros"
      ]
    },
    {
      "cell_type": "markdown",
      "id": "ddf842bd",
      "metadata": {
        "id": "ddf842bd"
      },
      "source": [
        "El resumen de cinco números de un conjunto de datos consta del número más pequeño ($Min$), el cuartil inferior ($Q_1$), la mediana ($Q_2$), el cuartil superior ($Q_3$), y el número más grande ($Máx$), presentados en orden de menor a mayor."
      ]
    },
    {
      "cell_type": "markdown",
      "id": "ea13fc69",
      "metadata": {
        "id": "ea13fc69"
      },
      "source": [
        "Los cuantiles son puntos que dividen un conjunto de datos ordenados en partes iguales. De modo que un cuantil indica el valor por debajo del cual se encuentra un porcentaje de datos.\n",
        "\n",
        "Por ejemplo, si el valor del cuantil de orden 0,39 es 24, significa que el 39% de los datos de la muestra son menores que 24 y que el resto de datos son mayores que 24.\n",
        "\n",
        "Los cuartiles, que dividen a la distribución en cuatro partes (corresponden a los cuantiles 0,25; 0,50 y 0,75);"
      ]
    },
    {
      "cell_type": "markdown",
      "id": "21316a58",
      "metadata": {
        "id": "21316a58"
      },
      "source": [
        "### **Ejercicio:** Obtenga un resumen de 5 numeros para el ozono."
      ]
    },
    {
      "cell_type": "code",
      "execution_count": 12,
      "id": "c8f9291a-952a-4d6f-b1e8-4f4c4f1e9ea9",
      "metadata": {
        "id": "c8f9291a-952a-4d6f-b1e8-4f4c4f1e9ea9",
        "colab": {
          "base_uri": "https://localhost:8080/",
          "height": 178
        },
        "outputId": "39ec47a2-0e8d-4a82-bb80-92eddced91c8"
      },
      "outputs": [
        {
          "output_type": "execute_result",
          "data": {
            "text/plain": [
              "0.25    23.923077\n",
              "0.50    29.838384\n",
              "0.75    36.216012\n",
              "Name: O3, dtype: float64"
            ],
            "text/html": [
              "<div>\n",
              "<style scoped>\n",
              "    .dataframe tbody tr th:only-of-type {\n",
              "        vertical-align: middle;\n",
              "    }\n",
              "\n",
              "    .dataframe tbody tr th {\n",
              "        vertical-align: top;\n",
              "    }\n",
              "\n",
              "    .dataframe thead th {\n",
              "        text-align: right;\n",
              "    }\n",
              "</style>\n",
              "<table border=\"1\" class=\"dataframe\">\n",
              "  <thead>\n",
              "    <tr style=\"text-align: right;\">\n",
              "      <th></th>\n",
              "      <th>O3</th>\n",
              "    </tr>\n",
              "  </thead>\n",
              "  <tbody>\n",
              "    <tr>\n",
              "      <th>0.25</th>\n",
              "      <td>23.923077</td>\n",
              "    </tr>\n",
              "    <tr>\n",
              "      <th>0.50</th>\n",
              "      <td>29.838384</td>\n",
              "    </tr>\n",
              "    <tr>\n",
              "      <th>0.75</th>\n",
              "      <td>36.216012</td>\n",
              "    </tr>\n",
              "  </tbody>\n",
              "</table>\n",
              "</div><br><label><b>dtype:</b> float64</label>"
            ]
          },
          "metadata": {},
          "execution_count": 12
        }
      ],
      "source": [
        "cuartil= df['O3'].quantile([.25, .50, .75]) #Muestra los cuartiles\n",
        "cuartil"
      ]
    },
    {
      "cell_type": "code",
      "execution_count": 14,
      "id": "016e165e",
      "metadata": {
        "id": "016e165e",
        "colab": {
          "base_uri": "https://localhost:8080/",
          "height": 335
        },
        "outputId": "97c9abfc-10c9-416f-b8db-5e51dbaf30ec"
      },
      "outputs": [
        {
          "output_type": "execute_result",
          "data": {
            "text/plain": [
              "count    3073.000000\n",
              "mean       30.486331\n",
              "std         9.023384\n",
              "min         3.226054\n",
              "25%        23.923077\n",
              "50%        29.838384\n",
              "75%        36.216012\n",
              "max        67.443750\n",
              "Name: O3, dtype: float64"
            ],
            "text/html": [
              "<div>\n",
              "<style scoped>\n",
              "    .dataframe tbody tr th:only-of-type {\n",
              "        vertical-align: middle;\n",
              "    }\n",
              "\n",
              "    .dataframe tbody tr th {\n",
              "        vertical-align: top;\n",
              "    }\n",
              "\n",
              "    .dataframe thead th {\n",
              "        text-align: right;\n",
              "    }\n",
              "</style>\n",
              "<table border=\"1\" class=\"dataframe\">\n",
              "  <thead>\n",
              "    <tr style=\"text-align: right;\">\n",
              "      <th></th>\n",
              "      <th>O3</th>\n",
              "    </tr>\n",
              "  </thead>\n",
              "  <tbody>\n",
              "    <tr>\n",
              "      <th>count</th>\n",
              "      <td>3073.000000</td>\n",
              "    </tr>\n",
              "    <tr>\n",
              "      <th>mean</th>\n",
              "      <td>30.486331</td>\n",
              "    </tr>\n",
              "    <tr>\n",
              "      <th>std</th>\n",
              "      <td>9.023384</td>\n",
              "    </tr>\n",
              "    <tr>\n",
              "      <th>min</th>\n",
              "      <td>3.226054</td>\n",
              "    </tr>\n",
              "    <tr>\n",
              "      <th>25%</th>\n",
              "      <td>23.923077</td>\n",
              "    </tr>\n",
              "    <tr>\n",
              "      <th>50%</th>\n",
              "      <td>29.838384</td>\n",
              "    </tr>\n",
              "    <tr>\n",
              "      <th>75%</th>\n",
              "      <td>36.216012</td>\n",
              "    </tr>\n",
              "    <tr>\n",
              "      <th>max</th>\n",
              "      <td>67.443750</td>\n",
              "    </tr>\n",
              "  </tbody>\n",
              "</table>\n",
              "</div><br><label><b>dtype:</b> float64</label>"
            ]
          },
          "metadata": {},
          "execution_count": 14
        }
      ],
      "source": [
        "descripcion=df['O3'].describe()  #Nos da la descripción de la calumna seleccionada\n",
        "descripcion"
      ]
    },
    {
      "cell_type": "code",
      "execution_count": 16,
      "id": "0e4ae016-825f-4fb2-8426-a2dd1aa04053",
      "metadata": {
        "id": "0e4ae016-825f-4fb2-8426-a2dd1aa04053",
        "colab": {
          "base_uri": "https://localhost:8080/",
          "height": 300
        },
        "outputId": "b2205c58-5210-477a-aff8-d9d6821e81d7"
      },
      "outputs": [
        {
          "output_type": "execute_result",
          "data": {
            "text/plain": [
              "                CO           NO          NO2          NOX           O3  \\\n",
              "count  3073.000000  3073.000000  3073.000000  3073.000000  3073.000000   \n",
              "mean      0.481926    14.712425    23.030057    37.996908    30.486331   \n",
              "std       0.205181     8.857507     6.754973    14.795599     9.023384   \n",
              "min       0.115917     1.168000     8.061630     9.983402     3.226054   \n",
              "25%       0.327215     8.018735    18.188498    26.938073    23.923077   \n",
              "50%       0.444033    12.669596    22.421517    35.880223    29.838384   \n",
              "75%       0.597009    19.386091    26.854167    46.739777    36.216012   \n",
              "max       1.831818    75.806548    72.193452   148.005952    67.443750   \n",
              "\n",
              "              PM10         PM25          SO2  \n",
              "count  3073.000000  3073.000000  3073.000000  \n",
              "mean     41.892833    21.327371     3.689885  \n",
              "std      16.047342     8.796122     3.490277  \n",
              "min       8.218487     2.849315     0.630435  \n",
              "25%      29.483986    15.344720     1.557047  \n",
              "50%      40.040856    20.550000     2.484034  \n",
              "75%      52.708716    26.212963     4.377049  \n",
              "max     115.334071    86.909910    31.461741  "
            ],
            "text/html": [
              "\n",
              "  <div id=\"df-1ba2a43b-a3fe-421a-9049-7dc8982432af\" class=\"colab-df-container\">\n",
              "    <div>\n",
              "<style scoped>\n",
              "    .dataframe tbody tr th:only-of-type {\n",
              "        vertical-align: middle;\n",
              "    }\n",
              "\n",
              "    .dataframe tbody tr th {\n",
              "        vertical-align: top;\n",
              "    }\n",
              "\n",
              "    .dataframe thead th {\n",
              "        text-align: right;\n",
              "    }\n",
              "</style>\n",
              "<table border=\"1\" class=\"dataframe\">\n",
              "  <thead>\n",
              "    <tr style=\"text-align: right;\">\n",
              "      <th></th>\n",
              "      <th>CO</th>\n",
              "      <th>NO</th>\n",
              "      <th>NO2</th>\n",
              "      <th>NOX</th>\n",
              "      <th>O3</th>\n",
              "      <th>PM10</th>\n",
              "      <th>PM25</th>\n",
              "      <th>SO2</th>\n",
              "    </tr>\n",
              "  </thead>\n",
              "  <tbody>\n",
              "    <tr>\n",
              "      <th>count</th>\n",
              "      <td>3073.000000</td>\n",
              "      <td>3073.000000</td>\n",
              "      <td>3073.000000</td>\n",
              "      <td>3073.000000</td>\n",
              "      <td>3073.000000</td>\n",
              "      <td>3073.000000</td>\n",
              "      <td>3073.000000</td>\n",
              "      <td>3073.000000</td>\n",
              "    </tr>\n",
              "    <tr>\n",
              "      <th>mean</th>\n",
              "      <td>0.481926</td>\n",
              "      <td>14.712425</td>\n",
              "      <td>23.030057</td>\n",
              "      <td>37.996908</td>\n",
              "      <td>30.486331</td>\n",
              "      <td>41.892833</td>\n",
              "      <td>21.327371</td>\n",
              "      <td>3.689885</td>\n",
              "    </tr>\n",
              "    <tr>\n",
              "      <th>std</th>\n",
              "      <td>0.205181</td>\n",
              "      <td>8.857507</td>\n",
              "      <td>6.754973</td>\n",
              "      <td>14.795599</td>\n",
              "      <td>9.023384</td>\n",
              "      <td>16.047342</td>\n",
              "      <td>8.796122</td>\n",
              "      <td>3.490277</td>\n",
              "    </tr>\n",
              "    <tr>\n",
              "      <th>min</th>\n",
              "      <td>0.115917</td>\n",
              "      <td>1.168000</td>\n",
              "      <td>8.061630</td>\n",
              "      <td>9.983402</td>\n",
              "      <td>3.226054</td>\n",
              "      <td>8.218487</td>\n",
              "      <td>2.849315</td>\n",
              "      <td>0.630435</td>\n",
              "    </tr>\n",
              "    <tr>\n",
              "      <th>25%</th>\n",
              "      <td>0.327215</td>\n",
              "      <td>8.018735</td>\n",
              "      <td>18.188498</td>\n",
              "      <td>26.938073</td>\n",
              "      <td>23.923077</td>\n",
              "      <td>29.483986</td>\n",
              "      <td>15.344720</td>\n",
              "      <td>1.557047</td>\n",
              "    </tr>\n",
              "    <tr>\n",
              "      <th>50%</th>\n",
              "      <td>0.444033</td>\n",
              "      <td>12.669596</td>\n",
              "      <td>22.421517</td>\n",
              "      <td>35.880223</td>\n",
              "      <td>29.838384</td>\n",
              "      <td>40.040856</td>\n",
              "      <td>20.550000</td>\n",
              "      <td>2.484034</td>\n",
              "    </tr>\n",
              "    <tr>\n",
              "      <th>75%</th>\n",
              "      <td>0.597009</td>\n",
              "      <td>19.386091</td>\n",
              "      <td>26.854167</td>\n",
              "      <td>46.739777</td>\n",
              "      <td>36.216012</td>\n",
              "      <td>52.708716</td>\n",
              "      <td>26.212963</td>\n",
              "      <td>4.377049</td>\n",
              "    </tr>\n",
              "    <tr>\n",
              "      <th>max</th>\n",
              "      <td>1.831818</td>\n",
              "      <td>75.806548</td>\n",
              "      <td>72.193452</td>\n",
              "      <td>148.005952</td>\n",
              "      <td>67.443750</td>\n",
              "      <td>115.334071</td>\n",
              "      <td>86.909910</td>\n",
              "      <td>31.461741</td>\n",
              "    </tr>\n",
              "  </tbody>\n",
              "</table>\n",
              "</div>\n",
              "    <div class=\"colab-df-buttons\">\n",
              "\n",
              "  <div class=\"colab-df-container\">\n",
              "    <button class=\"colab-df-convert\" onclick=\"convertToInteractive('df-1ba2a43b-a3fe-421a-9049-7dc8982432af')\"\n",
              "            title=\"Convert this dataframe to an interactive table.\"\n",
              "            style=\"display:none;\">\n",
              "\n",
              "  <svg xmlns=\"http://www.w3.org/2000/svg\" height=\"24px\" viewBox=\"0 -960 960 960\">\n",
              "    <path d=\"M120-120v-720h720v720H120Zm60-500h600v-160H180v160Zm220 220h160v-160H400v160Zm0 220h160v-160H400v160ZM180-400h160v-160H180v160Zm440 0h160v-160H620v160ZM180-180h160v-160H180v160Zm440 0h160v-160H620v160Z\"/>\n",
              "  </svg>\n",
              "    </button>\n",
              "\n",
              "  <style>\n",
              "    .colab-df-container {\n",
              "      display:flex;\n",
              "      gap: 12px;\n",
              "    }\n",
              "\n",
              "    .colab-df-convert {\n",
              "      background-color: #E8F0FE;\n",
              "      border: none;\n",
              "      border-radius: 50%;\n",
              "      cursor: pointer;\n",
              "      display: none;\n",
              "      fill: #1967D2;\n",
              "      height: 32px;\n",
              "      padding: 0 0 0 0;\n",
              "      width: 32px;\n",
              "    }\n",
              "\n",
              "    .colab-df-convert:hover {\n",
              "      background-color: #E2EBFA;\n",
              "      box-shadow: 0px 1px 2px rgba(60, 64, 67, 0.3), 0px 1px 3px 1px rgba(60, 64, 67, 0.15);\n",
              "      fill: #174EA6;\n",
              "    }\n",
              "\n",
              "    .colab-df-buttons div {\n",
              "      margin-bottom: 4px;\n",
              "    }\n",
              "\n",
              "    [theme=dark] .colab-df-convert {\n",
              "      background-color: #3B4455;\n",
              "      fill: #D2E3FC;\n",
              "    }\n",
              "\n",
              "    [theme=dark] .colab-df-convert:hover {\n",
              "      background-color: #434B5C;\n",
              "      box-shadow: 0px 1px 3px 1px rgba(0, 0, 0, 0.15);\n",
              "      filter: drop-shadow(0px 1px 2px rgba(0, 0, 0, 0.3));\n",
              "      fill: #FFFFFF;\n",
              "    }\n",
              "  </style>\n",
              "\n",
              "    <script>\n",
              "      const buttonEl =\n",
              "        document.querySelector('#df-1ba2a43b-a3fe-421a-9049-7dc8982432af button.colab-df-convert');\n",
              "      buttonEl.style.display =\n",
              "        google.colab.kernel.accessAllowed ? 'block' : 'none';\n",
              "\n",
              "      async function convertToInteractive(key) {\n",
              "        const element = document.querySelector('#df-1ba2a43b-a3fe-421a-9049-7dc8982432af');\n",
              "        const dataTable =\n",
              "          await google.colab.kernel.invokeFunction('convertToInteractive',\n",
              "                                                    [key], {});\n",
              "        if (!dataTable) return;\n",
              "\n",
              "        const docLinkHtml = 'Like what you see? Visit the ' +\n",
              "          '<a target=\"_blank\" href=https://colab.research.google.com/notebooks/data_table.ipynb>data table notebook</a>'\n",
              "          + ' to learn more about interactive tables.';\n",
              "        element.innerHTML = '';\n",
              "        dataTable['output_type'] = 'display_data';\n",
              "        await google.colab.output.renderOutput(dataTable, element);\n",
              "        const docLink = document.createElement('div');\n",
              "        docLink.innerHTML = docLinkHtml;\n",
              "        element.appendChild(docLink);\n",
              "      }\n",
              "    </script>\n",
              "  </div>\n",
              "\n",
              "\n",
              "<div id=\"df-4802c50f-aef6-4ac7-a3cb-16d56799eb57\">\n",
              "  <button class=\"colab-df-quickchart\" onclick=\"quickchart('df-4802c50f-aef6-4ac7-a3cb-16d56799eb57')\"\n",
              "            title=\"Suggest charts\"\n",
              "            style=\"display:none;\">\n",
              "\n",
              "<svg xmlns=\"http://www.w3.org/2000/svg\" height=\"24px\"viewBox=\"0 0 24 24\"\n",
              "     width=\"24px\">\n",
              "    <g>\n",
              "        <path d=\"M19 3H5c-1.1 0-2 .9-2 2v14c0 1.1.9 2 2 2h14c1.1 0 2-.9 2-2V5c0-1.1-.9-2-2-2zM9 17H7v-7h2v7zm4 0h-2V7h2v10zm4 0h-2v-4h2v4z\"/>\n",
              "    </g>\n",
              "</svg>\n",
              "  </button>\n",
              "\n",
              "<style>\n",
              "  .colab-df-quickchart {\n",
              "      --bg-color: #E8F0FE;\n",
              "      --fill-color: #1967D2;\n",
              "      --hover-bg-color: #E2EBFA;\n",
              "      --hover-fill-color: #174EA6;\n",
              "      --disabled-fill-color: #AAA;\n",
              "      --disabled-bg-color: #DDD;\n",
              "  }\n",
              "\n",
              "  [theme=dark] .colab-df-quickchart {\n",
              "      --bg-color: #3B4455;\n",
              "      --fill-color: #D2E3FC;\n",
              "      --hover-bg-color: #434B5C;\n",
              "      --hover-fill-color: #FFFFFF;\n",
              "      --disabled-bg-color: #3B4455;\n",
              "      --disabled-fill-color: #666;\n",
              "  }\n",
              "\n",
              "  .colab-df-quickchart {\n",
              "    background-color: var(--bg-color);\n",
              "    border: none;\n",
              "    border-radius: 50%;\n",
              "    cursor: pointer;\n",
              "    display: none;\n",
              "    fill: var(--fill-color);\n",
              "    height: 32px;\n",
              "    padding: 0;\n",
              "    width: 32px;\n",
              "  }\n",
              "\n",
              "  .colab-df-quickchart:hover {\n",
              "    background-color: var(--hover-bg-color);\n",
              "    box-shadow: 0 1px 2px rgba(60, 64, 67, 0.3), 0 1px 3px 1px rgba(60, 64, 67, 0.15);\n",
              "    fill: var(--button-hover-fill-color);\n",
              "  }\n",
              "\n",
              "  .colab-df-quickchart-complete:disabled,\n",
              "  .colab-df-quickchart-complete:disabled:hover {\n",
              "    background-color: var(--disabled-bg-color);\n",
              "    fill: var(--disabled-fill-color);\n",
              "    box-shadow: none;\n",
              "  }\n",
              "\n",
              "  .colab-df-spinner {\n",
              "    border: 2px solid var(--fill-color);\n",
              "    border-color: transparent;\n",
              "    border-bottom-color: var(--fill-color);\n",
              "    animation:\n",
              "      spin 1s steps(1) infinite;\n",
              "  }\n",
              "\n",
              "  @keyframes spin {\n",
              "    0% {\n",
              "      border-color: transparent;\n",
              "      border-bottom-color: var(--fill-color);\n",
              "      border-left-color: var(--fill-color);\n",
              "    }\n",
              "    20% {\n",
              "      border-color: transparent;\n",
              "      border-left-color: var(--fill-color);\n",
              "      border-top-color: var(--fill-color);\n",
              "    }\n",
              "    30% {\n",
              "      border-color: transparent;\n",
              "      border-left-color: var(--fill-color);\n",
              "      border-top-color: var(--fill-color);\n",
              "      border-right-color: var(--fill-color);\n",
              "    }\n",
              "    40% {\n",
              "      border-color: transparent;\n",
              "      border-right-color: var(--fill-color);\n",
              "      border-top-color: var(--fill-color);\n",
              "    }\n",
              "    60% {\n",
              "      border-color: transparent;\n",
              "      border-right-color: var(--fill-color);\n",
              "    }\n",
              "    80% {\n",
              "      border-color: transparent;\n",
              "      border-right-color: var(--fill-color);\n",
              "      border-bottom-color: var(--fill-color);\n",
              "    }\n",
              "    90% {\n",
              "      border-color: transparent;\n",
              "      border-bottom-color: var(--fill-color);\n",
              "    }\n",
              "  }\n",
              "</style>\n",
              "\n",
              "  <script>\n",
              "    async function quickchart(key) {\n",
              "      const quickchartButtonEl =\n",
              "        document.querySelector('#' + key + ' button');\n",
              "      quickchartButtonEl.disabled = true;  // To prevent multiple clicks.\n",
              "      quickchartButtonEl.classList.add('colab-df-spinner');\n",
              "      try {\n",
              "        const charts = await google.colab.kernel.invokeFunction(\n",
              "            'suggestCharts', [key], {});\n",
              "      } catch (error) {\n",
              "        console.error('Error during call to suggestCharts:', error);\n",
              "      }\n",
              "      quickchartButtonEl.classList.remove('colab-df-spinner');\n",
              "      quickchartButtonEl.classList.add('colab-df-quickchart-complete');\n",
              "    }\n",
              "    (() => {\n",
              "      let quickchartButtonEl =\n",
              "        document.querySelector('#df-4802c50f-aef6-4ac7-a3cb-16d56799eb57 button');\n",
              "      quickchartButtonEl.style.display =\n",
              "        google.colab.kernel.accessAllowed ? 'block' : 'none';\n",
              "    })();\n",
              "  </script>\n",
              "</div>\n",
              "\n",
              "  <div id=\"id_13164411-570b-4a5f-97bb-cde3dd8e596e\">\n",
              "    <style>\n",
              "      .colab-df-generate {\n",
              "        background-color: #E8F0FE;\n",
              "        border: none;\n",
              "        border-radius: 50%;\n",
              "        cursor: pointer;\n",
              "        display: none;\n",
              "        fill: #1967D2;\n",
              "        height: 32px;\n",
              "        padding: 0 0 0 0;\n",
              "        width: 32px;\n",
              "      }\n",
              "\n",
              "      .colab-df-generate:hover {\n",
              "        background-color: #E2EBFA;\n",
              "        box-shadow: 0px 1px 2px rgba(60, 64, 67, 0.3), 0px 1px 3px 1px rgba(60, 64, 67, 0.15);\n",
              "        fill: #174EA6;\n",
              "      }\n",
              "\n",
              "      [theme=dark] .colab-df-generate {\n",
              "        background-color: #3B4455;\n",
              "        fill: #D2E3FC;\n",
              "      }\n",
              "\n",
              "      [theme=dark] .colab-df-generate:hover {\n",
              "        background-color: #434B5C;\n",
              "        box-shadow: 0px 1px 3px 1px rgba(0, 0, 0, 0.15);\n",
              "        filter: drop-shadow(0px 1px 2px rgba(0, 0, 0, 0.3));\n",
              "        fill: #FFFFFF;\n",
              "      }\n",
              "    </style>\n",
              "    <button class=\"colab-df-generate\" onclick=\"generateWithVariable('describetot')\"\n",
              "            title=\"Generate code using this dataframe.\"\n",
              "            style=\"display:none;\">\n",
              "\n",
              "  <svg xmlns=\"http://www.w3.org/2000/svg\" height=\"24px\"viewBox=\"0 0 24 24\"\n",
              "       width=\"24px\">\n",
              "    <path d=\"M7,19H8.4L18.45,9,17,7.55,7,17.6ZM5,21V16.75L18.45,3.32a2,2,0,0,1,2.83,0l1.4,1.43a1.91,1.91,0,0,1,.58,1.4,1.91,1.91,0,0,1-.58,1.4L9.25,21ZM18.45,9,17,7.55Zm-12,3A5.31,5.31,0,0,0,4.9,8.1,5.31,5.31,0,0,0,1,6.5,5.31,5.31,0,0,0,4.9,4.9,5.31,5.31,0,0,0,6.5,1,5.31,5.31,0,0,0,8.1,4.9,5.31,5.31,0,0,0,12,6.5,5.46,5.46,0,0,0,6.5,12Z\"/>\n",
              "  </svg>\n",
              "    </button>\n",
              "    <script>\n",
              "      (() => {\n",
              "      const buttonEl =\n",
              "        document.querySelector('#id_13164411-570b-4a5f-97bb-cde3dd8e596e button.colab-df-generate');\n",
              "      buttonEl.style.display =\n",
              "        google.colab.kernel.accessAllowed ? 'block' : 'none';\n",
              "\n",
              "      buttonEl.onclick = () => {\n",
              "        google.colab.notebook.generateWithVariable('describetot');\n",
              "      }\n",
              "      })();\n",
              "    </script>\n",
              "  </div>\n",
              "\n",
              "    </div>\n",
              "  </div>\n"
            ],
            "application/vnd.google.colaboratory.intrinsic+json": {
              "type": "dataframe",
              "variable_name": "describetot",
              "summary": "{\n  \"name\": \"describetot\",\n  \"rows\": 8,\n  \"fields\": [\n    {\n      \"column\": \"CO\",\n      \"properties\": {\n        \"dtype\": \"number\",\n        \"std\": 1086.2675147636678,\n        \"min\": 0.1159166666666666,\n        \"max\": 3073.0,\n        \"num_unique_values\": 8,\n        \"samples\": [\n          0.4819260524259833,\n          0.4440325497287523,\n          3073.0\n        ],\n        \"semantic_type\": \"\",\n        \"description\": \"\"\n      }\n    },\n    {\n      \"column\": \"NO\",\n      \"properties\": {\n        \"dtype\": \"number\",\n        \"std\": 1079.6199226033243,\n        \"min\": 1.168,\n        \"max\": 3073.0,\n        \"num_unique_values\": 8,\n        \"samples\": [\n          14.712425324004707,\n          12.669595782073811,\n          3073.0\n        ],\n        \"semantic_type\": \"\",\n        \"description\": \"\"\n      }\n    },\n    {\n      \"column\": \"NO2\",\n      \"properties\": {\n        \"dtype\": \"number\",\n        \"std\": 1077.6969040309914,\n        \"min\": 6.754973355504539,\n        \"max\": 3073.0,\n        \"num_unique_values\": 8,\n        \"samples\": [\n          23.030056727166183,\n          22.42151675485009,\n          3073.0\n        ],\n        \"semantic_type\": \"\",\n        \"description\": \"\"\n      }\n    },\n    {\n      \"column\": \"NOX\",\n      \"properties\": {\n        \"dtype\": \"number\",\n        \"std\": 1071.170939583655,\n        \"min\": 9.983402489626556,\n        \"max\": 3073.0,\n        \"num_unique_values\": 8,\n        \"samples\": [\n          37.99690787828479,\n          35.880222841225624,\n          3073.0\n        ],\n        \"semantic_type\": \"\",\n        \"description\": \"\"\n      }\n    },\n    {\n      \"column\": \"O3\",\n      \"properties\": {\n        \"dtype\": \"number\",\n        \"std\": 1076.5340257365565,\n        \"min\": 3.2260536398467434,\n        \"max\": 3073.0,\n        \"num_unique_values\": 8,\n        \"samples\": [\n          30.486331392957556,\n          29.83838383838384,\n          3073.0\n        ],\n        \"semantic_type\": \"\",\n        \"description\": \"\"\n      }\n    },\n    {\n      \"column\": \"PM10\",\n      \"properties\": {\n        \"dtype\": \"number\",\n        \"std\": 1071.6260506606143,\n        \"min\": 8.218487394957982,\n        \"max\": 3073.0,\n        \"num_unique_values\": 8,\n        \"samples\": [\n          41.8928332030323,\n          40.040856031128406,\n          3073.0\n        ],\n        \"semantic_type\": \"\",\n        \"description\": \"\"\n      }\n    },\n    {\n      \"column\": \"PM25\",\n      \"properties\": {\n        \"dtype\": \"number\",\n        \"std\": 1077.5897209863092,\n        \"min\": 2.8493150684931505,\n        \"max\": 3073.0,\n        \"num_unique_values\": 8,\n        \"samples\": [\n          21.327371483141242,\n          20.55,\n          3073.0\n        ],\n        \"semantic_type\": \"\",\n        \"description\": \"\"\n      }\n    },\n    {\n      \"column\": \"SO2\",\n      \"properties\": {\n        \"dtype\": \"number\",\n        \"std\": 1084.1082026356469,\n        \"min\": 0.6304347826086957,\n        \"max\": 3073.0,\n        \"num_unique_values\": 8,\n        \"samples\": [\n          3.6898846100843237,\n          2.484033613445378,\n          3073.0\n        ],\n        \"semantic_type\": \"\",\n        \"description\": \"\"\n      }\n    }\n  ]\n}"
            }
          },
          "metadata": {},
          "execution_count": 16
        }
      ],
      "source": [
        "describetot=df.describe()  #Nos da la descripción de todo el DataFrame\n",
        "describetot"
      ]
    },
    {
      "cell_type": "markdown",
      "id": "617682c6",
      "metadata": {
        "id": "617682c6"
      },
      "source": [
        "## Gráfica de caja"
      ]
    },
    {
      "cell_type": "markdown",
      "id": "039e6bb1",
      "metadata": {
        "id": "039e6bb1"
      },
      "source": [
        "Un **valor atípico** (outlier) es una observación que es numéricamente distante del resto de los datos."
      ]
    },
    {
      "cell_type": "markdown",
      "id": "eaf85304",
      "metadata": {
        "id": "eaf85304"
      },
      "source": [
        "### **Ejercicio:** Obtenga una gráfica de caja para el dióxido de nitrógeno (NO2)."
      ]
    },
    {
      "cell_type": "code",
      "execution_count": null,
      "id": "b83bd9c6-5fc6-4262-9e82-5f1c6d1d2dba",
      "metadata": {
        "id": "b83bd9c6-5fc6-4262-9e82-5f1c6d1d2dba",
        "outputId": "024885b0-7dab-471c-dc3a-682bd74abef3"
      },
      "outputs": [
        {
          "data": {
            "image/png": "[encoded data removed]",
            "text/plain": [
              "<Figure size 640x480 with 1 Axes>"
            ]
          },
          "metadata": {},
          "output_type": "display_data"
        }
      ],
      "source": [
        "plt.boxplot(df['NO2']) #Grafica de caja (para determinar los datos atipicos)\n",
        "plt.show()\n",
        "\n",
        "#vert = False"
      ]
    },
    {
      "cell_type": "markdown",
      "id": "115fe75c",
      "metadata": {
        "id": "115fe75c"
      },
      "source": [
        "### **Ejercicio:** Obtenga las graficas de caja de las partículas PM10 y PM25."
      ]
    },
    {
      "cell_type": "code",
      "execution_count": 17,
      "id": "017de2fa",
      "metadata": {
        "id": "017de2fa"
      },
      "outputs": [],
      "source": [
        "import seaborn as sb #Importar la paqueteria"
      ]
    },
    {
      "cell_type": "code",
      "execution_count": 18,
      "id": "4fa6c7e1",
      "metadata": {
        "id": "4fa6c7e1",
        "colab": {
          "base_uri": "https://localhost:8080/",
          "height": 452
        },
        "outputId": "2e364aca-f5bd-4601-e4bc-bd0cc87e8261"
      },
      "outputs": [
        {
          "output_type": "execute_result",
          "data": {
            "text/plain": [
              "<Axes: >"
            ]
          },
          "metadata": {},
          "execution_count": 18
        },
        {
          "output_type": "display_data",
          "data": {
            "text/plain": [
              "<Figure size 640x480 with 1 Axes>"
            ],
            "image/png": "[encoded data removed]"
          },
          "metadata": {}
        }
      ],
      "source": [
        "sb.boxplot(data=df[['PM10', 'PM25']]) #Grafica de caja para las columnas de PM10 y PM2.5"
      ]
    },
    {
      "cell_type": "markdown",
      "id": "4bbdad50",
      "metadata": {
        "id": "4bbdad50"
      },
      "source": [
        "### **Ejercicio:** Obtenga las graficas de caja de todos los contaminantes."
      ]
    },
    {
      "cell_type": "code",
      "execution_count": 20,
      "id": "6f67e57c",
      "metadata": {
        "id": "6f67e57c",
        "outputId": "1291bd7a-b9ce-456f-c730-55c176dbd733",
        "colab": {
          "base_uri": "https://localhost:8080/",
          "height": 633
        }
      },
      "outputs": [
        {
          "output_type": "execute_result",
          "data": {
            "text/plain": [
              "<Axes: >"
            ]
          },
          "metadata": {},
          "execution_count": 20
        },
        {
          "output_type": "display_data",
          "data": {
            "text/plain": [
              "<Figure size 1500x750 with 1 Axes>"
            ],
            "image/png": "[encoded data removed]"
          },
          "metadata": {}
        }
      ],
      "source": [
        "plt.figure(figsize=(10,5), dpi=150)\n",
        "sb.boxplot(data=df)\n",
        "\n",
        "#sb.boxplot(data=df)\n",
        "# orient='h'\n",
        "#plt.figure(figsize=(10,5), dpi=150)"
      ]
    },
    {
      "cell_type": "markdown",
      "id": "8ec93257",
      "metadata": {
        "id": "8ec93257"
      },
      "source": [
        "**Ejercicio:** ¿Cuantos datos atípicos tienen los óxidos de nitrógeno?\n",
        "Recordando que los datos atipicos se detectan mediante el límite inferior y el límite superior."
      ]
    },
    {
      "cell_type": "code",
      "execution_count": 21,
      "id": "2efc4707-fcad-46e7-9a63-562e1c92c5d8",
      "metadata": {
        "id": "2efc4707-fcad-46e7-9a63-562e1c92c5d8",
        "colab": {
          "base_uri": "https://localhost:8080/",
          "height": 335
        },
        "outputId": "63616e9c-9623-412b-f441-50de6618b859"
      },
      "outputs": [
        {
          "output_type": "execute_result",
          "data": {
            "text/plain": [
              "count    3073.000000\n",
              "mean       37.996908\n",
              "std        14.795599\n",
              "min         9.983402\n",
              "25%        26.938073\n",
              "50%        35.880223\n",
              "75%        46.739777\n",
              "max       148.005952\n",
              "Name: NOX, dtype: float64"
            ],
            "text/html": [
              "<div>\n",
              "<style scoped>\n",
              "    .dataframe tbody tr th:only-of-type {\n",
              "        vertical-align: middle;\n",
              "    }\n",
              "\n",
              "    .dataframe tbody tr th {\n",
              "        vertical-align: top;\n",
              "    }\n",
              "\n",
              "    .dataframe thead th {\n",
              "        text-align: right;\n",
              "    }\n",
              "</style>\n",
              "<table border=\"1\" class=\"dataframe\">\n",
              "  <thead>\n",
              "    <tr style=\"text-align: right;\">\n",
              "      <th></th>\n",
              "      <th>NOX</th>\n",
              "    </tr>\n",
              "  </thead>\n",
              "  <tbody>\n",
              "    <tr>\n",
              "      <th>count</th>\n",
              "      <td>3073.000000</td>\n",
              "    </tr>\n",
              "    <tr>\n",
              "      <th>mean</th>\n",
              "      <td>37.996908</td>\n",
              "    </tr>\n",
              "    <tr>\n",
              "      <th>std</th>\n",
              "      <td>14.795599</td>\n",
              "    </tr>\n",
              "    <tr>\n",
              "      <th>min</th>\n",
              "      <td>9.983402</td>\n",
              "    </tr>\n",
              "    <tr>\n",
              "      <th>25%</th>\n",
              "      <td>26.938073</td>\n",
              "    </tr>\n",
              "    <tr>\n",
              "      <th>50%</th>\n",
              "      <td>35.880223</td>\n",
              "    </tr>\n",
              "    <tr>\n",
              "      <th>75%</th>\n",
              "      <td>46.739777</td>\n",
              "    </tr>\n",
              "    <tr>\n",
              "      <th>max</th>\n",
              "      <td>148.005952</td>\n",
              "    </tr>\n",
              "  </tbody>\n",
              "</table>\n",
              "</div><br><label><b>dtype:</b> float64</label>"
            ]
          },
          "metadata": {},
          "execution_count": 21
        }
      ],
      "source": [
        "desc=(df['NOX']).describe() #Da la descripción de la columna\n",
        "desc"
      ]
    },
    {
      "cell_type": "code",
      "execution_count": 23,
      "id": "653aba50",
      "metadata": {
        "id": "653aba50",
        "colab": {
          "base_uri": "https://localhost:8080/"
        },
        "outputId": "8ccbcd3c-58ec-4e92-c7d5-fc84bd6dac6c"
      },
      "outputs": [
        {
          "output_type": "execute_result",
          "data": {
            "text/plain": [
              "50"
            ]
          },
          "metadata": {},
          "execution_count": 23
        }
      ],
      "source": [
        "IQR=46.739-26.938\n",
        "datip=46.739+1.5*(IQR)\n",
        "datos_atipicos= (df['NOX']>datip).sum()\n",
        "datos_atipicos"
      ]
    },
    {
      "cell_type": "code",
      "source": [
        "porcentaje=50/3072*(100) #Porcenteje que representan los datoa atipicos\n",
        "porcentaje"
      ],
      "metadata": {
        "colab": {
          "base_uri": "https://localhost:8080/"
        },
        "id": "684EPqHxKQJr",
        "outputId": "2cdcf3f0-5692-4ed9-bf81-3756f024f7b5"
      },
      "id": "684EPqHxKQJr",
      "execution_count": 24,
      "outputs": [
        {
          "output_type": "execute_result",
          "data": {
            "text/plain": [
              "1.6276041666666667"
            ]
          },
          "metadata": {},
          "execution_count": 24
        }
      ]
    },
    {
      "cell_type": "markdown",
      "id": "f620a007",
      "metadata": {
        "id": "f620a007"
      },
      "source": [
        "**Ejercicio:** ¿En qué fechas se registraron estos datos atípicos?"
      ]
    },
    {
      "cell_type": "code",
      "source": [
        "fechas=df[['fecha', 'NOX']] [df['NOX']>datip]\n",
        "fechas"
      ],
      "metadata": {
        "colab": {
          "base_uri": "https://localhost:8080/",
          "height": 1000
        },
        "id": "NgknPyNLK7TM",
        "outputId": "8c036d1e-852e-4d57-aa86-76160bf92657"
      },
      "id": "NgknPyNLK7TM",
      "execution_count": 27,
      "outputs": [
        {
          "output_type": "execute_result",
          "data": {
            "text/plain": [
              "           fecha         NOX\n",
              "300   2015-10-28   83.483333\n",
              "333   2015-11-30   87.296610\n",
              "334   2015-12-01   98.563855\n",
              "335   2015-12-02   83.168246\n",
              "342   2015-12-09   84.654118\n",
              "343   2015-12-10   86.292566\n",
              "344   2015-12-11   91.745327\n",
              "349   2015-12-16   78.567696\n",
              "354   2015-12-21   80.957647\n",
              "356   2015-12-23  102.088167\n",
              "357   2015-12-24   93.936170\n",
              "376   2016-01-12   88.602679\n",
              "380   2016-01-16  104.143172\n",
              "381   2016-01-17   78.528822\n",
              "382   2016-01-18   77.366292\n",
              "385   2016-01-21   92.643836\n",
              "389   2016-01-25   79.222472\n",
              "393   2016-01-29  148.005952\n",
              "394   2016-01-30  106.968137\n",
              "398   2016-02-03   80.320197\n",
              "410   2016-02-15   80.032995\n",
              "686   2016-11-17   91.200743\n",
              "735   2017-01-05   80.026030\n",
              "736   2017-01-06   83.161525\n",
              "741   2017-01-11   77.578288\n",
              "753   2017-01-23   77.672055\n",
              "756   2017-01-26   79.142045\n",
              "1058  2017-11-24   83.692469\n",
              "1068  2017-12-04   79.817610\n",
              "1069  2017-12-05   82.397541\n",
              "1070  2017-12-06   77.199153\n",
              "1075  2017-12-11   83.939834\n",
              "1076  2017-12-12   77.013889\n",
              "1077  2017-12-13   88.136499\n",
              "1078  2017-12-14  109.968900\n",
              "1079  2017-12-15   83.271579\n",
              "1083  2017-12-19   78.487696\n",
              "1086  2017-12-22   78.764259\n",
              "1105  2018-01-10   91.859406\n",
              "1106  2018-01-11   79.102273\n",
              "1127  2018-02-01   81.594595\n",
              "1413  2018-11-14   83.248210\n",
              "1422  2018-11-23   77.758621\n",
              "1446  2018-12-17   80.066667\n",
              "1450  2018-12-21   86.760135\n",
              "1451  2018-12-22   87.184991\n",
              "1831  2020-01-06   76.478528\n",
              "2547  2021-12-22   79.363636\n",
              "2548  2021-12-23   84.385199\n",
              "2549  2021-12-24   83.868571"
            ],
            "text/html": [
              "\n",
              "  <div id=\"df-0e900178-d389-45a0-9fa9-3eaa38526efc\" class=\"colab-df-container\">\n",
              "    <div>\n",
              "<style scoped>\n",
              "    .dataframe tbody tr th:only-of-type {\n",
              "        vertical-align: middle;\n",
              "    }\n",
              "\n",
              "    .dataframe tbody tr th {\n",
              "        vertical-align: top;\n",
              "    }\n",
              "\n",
              "    .dataframe thead th {\n",
              "        text-align: right;\n",
              "    }\n",
              "</style>\n",
              "<table border=\"1\" class=\"dataframe\">\n",
              "  <thead>\n",
              "    <tr style=\"text-align: right;\">\n",
              "      <th></th>\n",
              "      <th>fecha</th>\n",
              "      <th>NOX</th>\n",
              "    </tr>\n",
              "  </thead>\n",
              "  <tbody>\n",
              "    <tr>\n",
              "      <th>300</th>\n",
              "      <td>2015-10-28</td>\n",
              "      <td>83.483333</td>\n",
              "    </tr>\n",
              "    <tr>\n",
              "      <th>333</th>\n",
              "      <td>2015-11-30</td>\n",
              "      <td>87.296610</td>\n",
              "    </tr>\n",
              "    <tr>\n",
              "      <th>334</th>\n",
              "      <td>2015-12-01</td>\n",
              "      <td>98.563855</td>\n",
              "    </tr>\n",
              "    <tr>\n",
              "      <th>335</th>\n",
              "      <td>2015-12-02</td>\n",
              "      <td>83.168246</td>\n",
              "    </tr>\n",
              "    <tr>\n",
              "      <th>342</th>\n",
              "      <td>2015-12-09</td>\n",
              "      <td>84.654118</td>\n",
              "    </tr>\n",
              "    <tr>\n",
              "      <th>343</th>\n",
              "      <td>2015-12-10</td>\n",
              "      <td>86.292566</td>\n",
              "    </tr>\n",
              "    <tr>\n",
              "      <th>344</th>\n",
              "      <td>2015-12-11</td>\n",
              "      <td>91.745327</td>\n",
              "    </tr>\n",
              "    <tr>\n",
              "      <th>349</th>\n",
              "      <td>2015-12-16</td>\n",
              "      <td>78.567696</td>\n",
              "    </tr>\n",
              "    <tr>\n",
              "      <th>354</th>\n",
              "      <td>2015-12-21</td>\n",
              "      <td>80.957647</td>\n",
              "    </tr>\n",
              "    <tr>\n",
              "      <th>356</th>\n",
              "      <td>2015-12-23</td>\n",
              "      <td>102.088167</td>\n",
              "    </tr>\n",
              "    <tr>\n",
              "      <th>357</th>\n",
              "      <td>2015-12-24</td>\n",
              "      <td>93.936170</td>\n",
              "    </tr>\n",
              "    <tr>\n",
              "      <th>376</th>\n",
              "      <td>2016-01-12</td>\n",
              "      <td>88.602679</td>\n",
              "    </tr>\n",
              "    <tr>\n",
              "      <th>380</th>\n",
              "      <td>2016-01-16</td>\n",
              "      <td>104.143172</td>\n",
              "    </tr>\n",
              "    <tr>\n",
              "      <th>381</th>\n",
              "      <td>2016-01-17</td>\n",
              "      <td>78.528822</td>\n",
              "    </tr>\n",
              "    <tr>\n",
              "      <th>382</th>\n",
              "      <td>2016-01-18</td>\n",
              "      <td>77.366292</td>\n",
              "    </tr>\n",
              "    <tr>\n",
              "      <th>385</th>\n",
              "      <td>2016-01-21</td>\n",
              "      <td>92.643836</td>\n",
              "    </tr>\n",
              "    <tr>\n",
              "      <th>389</th>\n",
              "      <td>2016-01-25</td>\n",
              "      <td>79.222472</td>\n",
              "    </tr>\n",
              "    <tr>\n",
              "      <th>393</th>\n",
              "      <td>2016-01-29</td>\n",
              "      <td>148.005952</td>\n",
              "    </tr>\n",
              "    <tr>\n",
              "      <th>394</th>\n",
              "      <td>2016-01-30</td>\n",
              "      <td>106.968137</td>\n",
              "    </tr>\n",
              "    <tr>\n",
              "      <th>398</th>\n",
              "      <td>2016-02-03</td>\n",
              "      <td>80.320197</td>\n",
              "    </tr>\n",
              "    <tr>\n",
              "      <th>410</th>\n",
              "      <td>2016-02-15</td>\n",
              "      <td>80.032995</td>\n",
              "    </tr>\n",
              "    <tr>\n",
              "      <th>686</th>\n",
              "      <td>2016-11-17</td>\n",
              "      <td>91.200743</td>\n",
              "    </tr>\n",
              "    <tr>\n",
              "      <th>735</th>\n",
              "      <td>2017-01-05</td>\n",
              "      <td>80.026030</td>\n",
              "    </tr>\n",
              "    <tr>\n",
              "      <th>736</th>\n",
              "      <td>2017-01-06</td>\n",
              "      <td>83.161525</td>\n",
              "    </tr>\n",
              "    <tr>\n",
              "      <th>741</th>\n",
              "      <td>2017-01-11</td>\n",
              "      <td>77.578288</td>\n",
              "    </tr>\n",
              "    <tr>\n",
              "      <th>753</th>\n",
              "      <td>2017-01-23</td>\n",
              "      <td>77.672055</td>\n",
              "    </tr>\n",
              "    <tr>\n",
              "      <th>756</th>\n",
              "      <td>2017-01-26</td>\n",
              "      <td>79.142045</td>\n",
              "    </tr>\n",
              "    <tr>\n",
              "      <th>1058</th>\n",
              "      <td>2017-11-24</td>\n",
              "      <td>83.692469</td>\n",
              "    </tr>\n",
              "    <tr>\n",
              "      <th>1068</th>\n",
              "      <td>2017-12-04</td>\n",
              "      <td>79.817610</td>\n",
              "    </tr>\n",
              "    <tr>\n",
              "      <th>1069</th>\n",
              "      <td>2017-12-05</td>\n",
              "      <td>82.397541</td>\n",
              "    </tr>\n",
              "    <tr>\n",
              "      <th>1070</th>\n",
              "      <td>2017-12-06</td>\n",
              "      <td>77.199153</td>\n",
              "    </tr>\n",
              "    <tr>\n",
              "      <th>1075</th>\n",
              "      <td>2017-12-11</td>\n",
              "      <td>83.939834</td>\n",
              "    </tr>\n",
              "    <tr>\n",
              "      <th>1076</th>\n",
              "      <td>2017-12-12</td>\n",
              "      <td>77.013889</td>\n",
              "    </tr>\n",
              "    <tr>\n",
              "      <th>1077</th>\n",
              "      <td>2017-12-13</td>\n",
              "      <td>88.136499</td>\n",
              "    </tr>\n",
              "    <tr>\n",
              "      <th>1078</th>\n",
              "      <td>2017-12-14</td>\n",
              "      <td>109.968900</td>\n",
              "    </tr>\n",
              "    <tr>\n",
              "      <th>1079</th>\n",
              "      <td>2017-12-15</td>\n",
              "      <td>83.271579</td>\n",
              "    </tr>\n",
              "    <tr>\n",
              "      <th>1083</th>\n",
              "      <td>2017-12-19</td>\n",
              "      <td>78.487696</td>\n",
              "    </tr>\n",
              "    <tr>\n",
              "      <th>1086</th>\n",
              "      <td>2017-12-22</td>\n",
              "      <td>78.764259</td>\n",
              "    </tr>\n",
              "    <tr>\n",
              "      <th>1105</th>\n",
              "      <td>2018-01-10</td>\n",
              "      <td>91.859406</td>\n",
              "    </tr>\n",
              "    <tr>\n",
              "      <th>1106</th>\n",
              "      <td>2018-01-11</td>\n",
              "      <td>79.102273</td>\n",
              "    </tr>\n",
              "    <tr>\n",
              "      <th>1127</th>\n",
              "      <td>2018-02-01</td>\n",
              "      <td>81.594595</td>\n",
              "    </tr>\n",
              "    <tr>\n",
              "      <th>1413</th>\n",
              "      <td>2018-11-14</td>\n",
              "      <td>83.248210</td>\n",
              "    </tr>\n",
              "    <tr>\n",
              "      <th>1422</th>\n",
              "      <td>2018-11-23</td>\n",
              "      <td>77.758621</td>\n",
              "    </tr>\n",
              "    <tr>\n",
              "      <th>1446</th>\n",
              "      <td>2018-12-17</td>\n",
              "      <td>80.066667</td>\n",
              "    </tr>\n",
              "    <tr>\n",
              "      <th>1450</th>\n",
              "      <td>2018-12-21</td>\n",
              "      <td>86.760135</td>\n",
              "    </tr>\n",
              "    <tr>\n",
              "      <th>1451</th>\n",
              "      <td>2018-12-22</td>\n",
              "      <td>87.184991</td>\n",
              "    </tr>\n",
              "    <tr>\n",
              "      <th>1831</th>\n",
              "      <td>2020-01-06</td>\n",
              "      <td>76.478528</td>\n",
              "    </tr>\n",
              "    <tr>\n",
              "      <th>2547</th>\n",
              "      <td>2021-12-22</td>\n",
              "      <td>79.363636</td>\n",
              "    </tr>\n",
              "    <tr>\n",
              "      <th>2548</th>\n",
              "      <td>2021-12-23</td>\n",
              "      <td>84.385199</td>\n",
              "    </tr>\n",
              "    <tr>\n",
              "      <th>2549</th>\n",
              "      <td>2021-12-24</td>\n",
              "      <td>83.868571</td>\n",
              "    </tr>\n",
              "  </tbody>\n",
              "</table>\n",
              "</div>\n",
              "    <div class=\"colab-df-buttons\">\n",
              "\n",
              "  <div class=\"colab-df-container\">\n",
              "    <button class=\"colab-df-convert\" onclick=\"convertToInteractive('df-0e900178-d389-45a0-9fa9-3eaa38526efc')\"\n",
              "            title=\"Convert this dataframe to an interactive table.\"\n",
              "            style=\"display:none;\">\n",
              "\n",
              "  <svg xmlns=\"http://www.w3.org/2000/svg\" height=\"24px\" viewBox=\"0 -960 960 960\">\n",
              "    <path d=\"M120-120v-720h720v720H120Zm60-500h600v-160H180v160Zm220 220h160v-160H400v160Zm0 220h160v-160H400v160ZM180-400h160v-160H180v160Zm440 0h160v-160H620v160ZM180-180h160v-160H180v160Zm440 0h160v-160H620v160Z\"/>\n",
              "  </svg>\n",
              "    </button>\n",
              "\n",
              "  <style>\n",
              "    .colab-df-container {\n",
              "      display:flex;\n",
              "      gap: 12px;\n",
              "    }\n",
              "\n",
              "    .colab-df-convert {\n",
              "      background-color: #E8F0FE;\n",
              "      border: none;\n",
              "      border-radius: 50%;\n",
              "      cursor: pointer;\n",
              "      display: none;\n",
              "      fill: #1967D2;\n",
              "      height: 32px;\n",
              "      padding: 0 0 0 0;\n",
              "      width: 32px;\n",
              "    }\n",
              "\n",
              "    .colab-df-convert:hover {\n",
              "      background-color: #E2EBFA;\n",
              "      box-shadow: 0px 1px 2px rgba(60, 64, 67, 0.3), 0px 1px 3px 1px rgba(60, 64, 67, 0.15);\n",
              "      fill: #174EA6;\n",
              "    }\n",
              "\n",
              "    .colab-df-buttons div {\n",
              "      margin-bottom: 4px;\n",
              "    }\n",
              "\n",
              "    [theme=dark] .colab-df-convert {\n",
              "      background-color: #3B4455;\n",
              "      fill: #D2E3FC;\n",
              "    }\n",
              "\n",
              "    [theme=dark] .colab-df-convert:hover {\n",
              "      background-color: #434B5C;\n",
              "      box-shadow: 0px 1px 3px 1px rgba(0, 0, 0, 0.15);\n",
              "      filter: drop-shadow(0px 1px 2px rgba(0, 0, 0, 0.3));\n",
              "      fill: #FFFFFF;\n",
              "    }\n",
              "  </style>\n",
              "\n",
              "    <script>\n",
              "      const buttonEl =\n",
              "        document.querySelector('#df-0e900178-d389-45a0-9fa9-3eaa38526efc button.colab-df-convert');\n",
              "      buttonEl.style.display =\n",
              "        google.colab.kernel.accessAllowed ? 'block' : 'none';\n",
              "\n",
              "      async function convertToInteractive(key) {\n",
              "        const element = document.querySelector('#df-0e900178-d389-45a0-9fa9-3eaa38526efc');\n",
              "        const dataTable =\n",
              "          await google.colab.kernel.invokeFunction('convertToInteractive',\n",
              "                                                    [key], {});\n",
              "        if (!dataTable) return;\n",
              "\n",
              "        const docLinkHtml = 'Like what you see? Visit the ' +\n",
              "          '<a target=\"_blank\" href=https://colab.research.google.com/notebooks/data_table.ipynb>data table notebook</a>'\n",
              "          + ' to learn more about interactive tables.';\n",
              "        element.innerHTML = '';\n",
              "        dataTable['output_type'] = 'display_data';\n",
              "        await google.colab.output.renderOutput(dataTable, element);\n",
              "        const docLink = document.createElement('div');\n",
              "        docLink.innerHTML = docLinkHtml;\n",
              "        element.appendChild(docLink);\n",
              "      }\n",
              "    </script>\n",
              "  </div>\n",
              "\n",
              "\n",
              "<div id=\"df-7e3a315c-5af3-45c6-b782-fedb67f5743d\">\n",
              "  <button class=\"colab-df-quickchart\" onclick=\"quickchart('df-7e3a315c-5af3-45c6-b782-fedb67f5743d')\"\n",
              "            title=\"Suggest charts\"\n",
              "            style=\"display:none;\">\n",
              "\n",
              "<svg xmlns=\"http://www.w3.org/2000/svg\" height=\"24px\"viewBox=\"0 0 24 24\"\n",
              "     width=\"24px\">\n",
              "    <g>\n",
              "        <path d=\"M19 3H5c-1.1 0-2 .9-2 2v14c0 1.1.9 2 2 2h14c1.1 0 2-.9 2-2V5c0-1.1-.9-2-2-2zM9 17H7v-7h2v7zm4 0h-2V7h2v10zm4 0h-2v-4h2v4z\"/>\n",
              "    </g>\n",
              "</svg>\n",
              "  </button>\n",
              "\n",
              "<style>\n",
              "  .colab-df-quickchart {\n",
              "      --bg-color: #E8F0FE;\n",
              "      --fill-color: #1967D2;\n",
              "      --hover-bg-color: #E2EBFA;\n",
              "      --hover-fill-color: #174EA6;\n",
              "      --disabled-fill-color: #AAA;\n",
              "      --disabled-bg-color: #DDD;\n",
              "  }\n",
              "\n",
              "  [theme=dark] .colab-df-quickchart {\n",
              "      --bg-color: #3B4455;\n",
              "      --fill-color: #D2E3FC;\n",
              "      --hover-bg-color: #434B5C;\n",
              "      --hover-fill-color: #FFFFFF;\n",
              "      --disabled-bg-color: #3B4455;\n",
              "      --disabled-fill-color: #666;\n",
              "  }\n",
              "\n",
              "  .colab-df-quickchart {\n",
              "    background-color: var(--bg-color);\n",
              "    border: none;\n",
              "    border-radius: 50%;\n",
              "    cursor: pointer;\n",
              "    display: none;\n",
              "    fill: var(--fill-color);\n",
              "    height: 32px;\n",
              "    padding: 0;\n",
              "    width: 32px;\n",
              "  }\n",
              "\n",
              "  .colab-df-quickchart:hover {\n",
              "    background-color: var(--hover-bg-color);\n",
              "    box-shadow: 0 1px 2px rgba(60, 64, 67, 0.3), 0 1px 3px 1px rgba(60, 64, 67, 0.15);\n",
              "    fill: var(--button-hover-fill-color);\n",
              "  }\n",
              "\n",
              "  .colab-df-quickchart-complete:disabled,\n",
              "  .colab-df-quickchart-complete:disabled:hover {\n",
              "    background-color: var(--disabled-bg-color);\n",
              "    fill: var(--disabled-fill-color);\n",
              "    box-shadow: none;\n",
              "  }\n",
              "\n",
              "  .colab-df-spinner {\n",
              "    border: 2px solid var(--fill-color);\n",
              "    border-color: transparent;\n",
              "    border-bottom-color: var(--fill-color);\n",
              "    animation:\n",
              "      spin 1s steps(1) infinite;\n",
              "  }\n",
              "\n",
              "  @keyframes spin {\n",
              "    0% {\n",
              "      border-color: transparent;\n",
              "      border-bottom-color: var(--fill-color);\n",
              "      border-left-color: var(--fill-color);\n",
              "    }\n",
              "    20% {\n",
              "      border-color: transparent;\n",
              "      border-left-color: var(--fill-color);\n",
              "      border-top-color: var(--fill-color);\n",
              "    }\n",
              "    30% {\n",
              "      border-color: transparent;\n",
              "      border-left-color: var(--fill-color);\n",
              "      border-top-color: var(--fill-color);\n",
              "      border-right-color: var(--fill-color);\n",
              "    }\n",
              "    40% {\n",
              "      border-color: transparent;\n",
              "      border-right-color: var(--fill-color);\n",
              "      border-top-color: var(--fill-color);\n",
              "    }\n",
              "    60% {\n",
              "      border-color: transparent;\n",
              "      border-right-color: var(--fill-color);\n",
              "    }\n",
              "    80% {\n",
              "      border-color: transparent;\n",
              "      border-right-color: var(--fill-color);\n",
              "      border-bottom-color: var(--fill-color);\n",
              "    }\n",
              "    90% {\n",
              "      border-color: transparent;\n",
              "      border-bottom-color: var(--fill-color);\n",
              "    }\n",
              "  }\n",
              "</style>\n",
              "\n",
              "  <script>\n",
              "    async function quickchart(key) {\n",
              "      const quickchartButtonEl =\n",
              "        document.querySelector('#' + key + ' button');\n",
              "      quickchartButtonEl.disabled = true;  // To prevent multiple clicks.\n",
              "      quickchartButtonEl.classList.add('colab-df-spinner');\n",
              "      try {\n",
              "        const charts = await google.colab.kernel.invokeFunction(\n",
              "            'suggestCharts', [key], {});\n",
              "      } catch (error) {\n",
              "        console.error('Error during call to suggestCharts:', error);\n",
              "      }\n",
              "      quickchartButtonEl.classList.remove('colab-df-spinner');\n",
              "      quickchartButtonEl.classList.add('colab-df-quickchart-complete');\n",
              "    }\n",
              "    (() => {\n",
              "      let quickchartButtonEl =\n",
              "        document.querySelector('#df-7e3a315c-5af3-45c6-b782-fedb67f5743d button');\n",
              "      quickchartButtonEl.style.display =\n",
              "        google.colab.kernel.accessAllowed ? 'block' : 'none';\n",
              "    })();\n",
              "  </script>\n",
              "</div>\n",
              "\n",
              "  <div id=\"id_fc70c1db-297c-4e1b-8b4e-0a92b7e09b6f\">\n",
              "    <style>\n",
              "      .colab-df-generate {\n",
              "        background-color: #E8F0FE;\n",
              "        border: none;\n",
              "        border-radius: 50%;\n",
              "        cursor: pointer;\n",
              "        display: none;\n",
              "        fill: #1967D2;\n",
              "        height: 32px;\n",
              "        padding: 0 0 0 0;\n",
              "        width: 32px;\n",
              "      }\n",
              "\n",
              "      .colab-df-generate:hover {\n",
              "        background-color: #E2EBFA;\n",
              "        box-shadow: 0px 1px 2px rgba(60, 64, 67, 0.3), 0px 1px 3px 1px rgba(60, 64, 67, 0.15);\n",
              "        fill: #174EA6;\n",
              "      }\n",
              "\n",
              "      [theme=dark] .colab-df-generate {\n",
              "        background-color: #3B4455;\n",
              "        fill: #D2E3FC;\n",
              "      }\n",
              "\n",
              "      [theme=dark] .colab-df-generate:hover {\n",
              "        background-color: #434B5C;\n",
              "        box-shadow: 0px 1px 3px 1px rgba(0, 0, 0, 0.15);\n",
              "        filter: drop-shadow(0px 1px 2px rgba(0, 0, 0, 0.3));\n",
              "        fill: #FFFFFF;\n",
              "      }\n",
              "    </style>\n",
              "    <button class=\"colab-df-generate\" onclick=\"generateWithVariable('fechas')\"\n",
              "            title=\"Generate code using this dataframe.\"\n",
              "            style=\"display:none;\">\n",
              "\n",
              "  <svg xmlns=\"http://www.w3.org/2000/svg\" height=\"24px\"viewBox=\"0 0 24 24\"\n",
              "       width=\"24px\">\n",
              "    <path d=\"M7,19H8.4L18.45,9,17,7.55,7,17.6ZM5,21V16.75L18.45,3.32a2,2,0,0,1,2.83,0l1.4,1.43a1.91,1.91,0,0,1,.58,1.4,1.91,1.91,0,0,1-.58,1.4L9.25,21ZM18.45,9,17,7.55Zm-12,3A5.31,5.31,0,0,0,4.9,8.1,5.31,5.31,0,0,0,1,6.5,5.31,5.31,0,0,0,4.9,4.9,5.31,5.31,0,0,0,6.5,1,5.31,5.31,0,0,0,8.1,4.9,5.31,5.31,0,0,0,12,6.5,5.46,5.46,0,0,0,6.5,12Z\"/>\n",
              "  </svg>\n",
              "    </button>\n",
              "    <script>\n",
              "      (() => {\n",
              "      const buttonEl =\n",
              "        document.querySelector('#id_fc70c1db-297c-4e1b-8b4e-0a92b7e09b6f button.colab-df-generate');\n",
              "      buttonEl.style.display =\n",
              "        google.colab.kernel.accessAllowed ? 'block' : 'none';\n",
              "\n",
              "      buttonEl.onclick = () => {\n",
              "        google.colab.notebook.generateWithVariable('fechas');\n",
              "      }\n",
              "      })();\n",
              "    </script>\n",
              "  </div>\n",
              "\n",
              "    </div>\n",
              "  </div>\n"
            ],
            "application/vnd.google.colaboratory.intrinsic+json": {
              "type": "dataframe",
              "variable_name": "fechas",
              "repr_error": "0"
            }
          },
          "metadata": {},
          "execution_count": 27
        }
      ]
    },
    {
      "cell_type": "markdown",
      "id": "53200ad7",
      "metadata": {
        "id": "53200ad7"
      },
      "source": [
        "## Gráficas de los contaminantes"
      ]
    },
    {
      "cell_type": "code",
      "execution_count": 28,
      "id": "7b844def",
      "metadata": {
        "id": "7b844def",
        "outputId": "f4ccd86f-d6f3-463d-8053-3a03771ab5c5",
        "colab": {
          "base_uri": "https://localhost:8080/",
          "height": 430
        }
      },
      "outputs": [
        {
          "output_type": "display_data",
          "data": {
            "text/plain": [
              "<Figure size 640x480 with 1 Axes>"
            ],
            "image/png": "[encoded data removed]"
          },
          "metadata": {}
        }
      ],
      "source": [
        "fig, ax = plt.subplots()  #Grafica la serie temporal\n",
        "ax.plot(df['CO']);"
      ]
    },
    {
      "cell_type": "markdown",
      "id": "ea7bb27b",
      "metadata": {
        "id": "ea7bb27b"
      },
      "source": [
        "## Serie temporal"
      ]
    },
    {
      "cell_type": "markdown",
      "id": "9f26e93c",
      "metadata": {
        "id": "9f26e93c"
      },
      "source": [
        "Llamaremos **serie temporal ó serie de tiempo** a una colección de $n$ datos $\\{ x_t\\}_{t\\leq n }$ indexados por un tiempo $t$, es decir, ordenados cronológicamente.  La  indexación $t$ de una serie temporal debe ser en intervalos de una misma longitud, tales como anual, mensual, semanal, diaria, por hora, etc."
      ]
    },
    {
      "cell_type": "code",
      "execution_count": 29,
      "id": "79bcc63c",
      "metadata": {
        "id": "79bcc63c",
        "outputId": "46e39e18-ec06-4e86-d6ce-b9ce760e92bc",
        "colab": {
          "base_uri": "https://localhost:8080/"
        }
      },
      "outputs": [
        {
          "output_type": "execute_result",
          "data": {
            "text/plain": [
              "RangeIndex(start=0, stop=3073, step=1)"
            ]
          },
          "metadata": {},
          "execution_count": 29
        }
      ],
      "source": [
        "df.index"
      ]
    },
    {
      "cell_type": "markdown",
      "id": "c7bac1b2",
      "metadata": {
        "id": "c7bac1b2"
      },
      "source": [
        "*pd.to_datetime( )* se utiliza para convertir diferentes tipos de datos en objetos de fecha.\n",
        "\n",
        "*.index( )* se utiliza para asignar una lista, serie u otro dataframe como el índice de un dataframe."
      ]
    },
    {
      "cell_type": "code",
      "execution_count": 30,
      "id": "8a5a0644",
      "metadata": {
        "id": "8a5a0644"
      },
      "outputs": [],
      "source": [
        "df['fecha'] = pd.to_datetime(df['fecha'])"
      ]
    },
    {
      "cell_type": "code",
      "execution_count": 31,
      "id": "c82cec61",
      "metadata": {
        "id": "c82cec61"
      },
      "outputs": [],
      "source": [
        "df=df.set_index('fecha')"
      ]
    },
    {
      "cell_type": "code",
      "execution_count": 32,
      "id": "2b8a9d27",
      "metadata": {
        "id": "2b8a9d27",
        "outputId": "8a7d9724-5bcf-4190-d056-bdef8bbbd5e9",
        "colab": {
          "base_uri": "https://localhost:8080/",
          "height": 430
        }
      },
      "outputs": [
        {
          "output_type": "display_data",
          "data": {
            "text/plain": [
              "<Figure size 640x480 with 1 Axes>"
            ],
            "image/png": "[encoded data removed]"
          },
          "metadata": {}
        }
      ],
      "source": [
        "fig, ax = plt.subplots()\n",
        "ax.plot(df['CO']);"
      ]
    },
    {
      "cell_type": "code",
      "execution_count": 33,
      "id": "425f1af9",
      "metadata": {
        "id": "425f1af9",
        "colab": {
          "base_uri": "https://localhost:8080/",
          "height": 490
        },
        "outputId": "8c24d9fb-ffa6-4c57-ad07-33dca02c41d0"
      },
      "outputs": [
        {
          "output_type": "execute_result",
          "data": {
            "text/plain": [
              "fecha\n",
              "2018-05-01    0.248947\n",
              "2018-05-02    0.451852\n",
              "2018-05-03    0.425682\n",
              "2018-05-04    0.457273\n",
              "2018-05-05    0.239732\n",
              "                ...   \n",
              "2020-05-27    0.381754\n",
              "2020-05-28    0.329623\n",
              "2020-05-29    0.255556\n",
              "2020-05-30    0.149715\n",
              "2020-05-31    0.198729\n",
              "Name: CO, Length: 762, dtype: float64"
            ],
            "text/html": [
              "<div>\n",
              "<style scoped>\n",
              "    .dataframe tbody tr th:only-of-type {\n",
              "        vertical-align: middle;\n",
              "    }\n",
              "\n",
              "    .dataframe tbody tr th {\n",
              "        vertical-align: top;\n",
              "    }\n",
              "\n",
              "    .dataframe thead th {\n",
              "        text-align: right;\n",
              "    }\n",
              "</style>\n",
              "<table border=\"1\" class=\"dataframe\">\n",
              "  <thead>\n",
              "    <tr style=\"text-align: right;\">\n",
              "      <th></th>\n",
              "      <th>CO</th>\n",
              "    </tr>\n",
              "    <tr>\n",
              "      <th>fecha</th>\n",
              "      <th></th>\n",
              "    </tr>\n",
              "  </thead>\n",
              "  <tbody>\n",
              "    <tr>\n",
              "      <th>2018-05-01</th>\n",
              "      <td>0.248947</td>\n",
              "    </tr>\n",
              "    <tr>\n",
              "      <th>2018-05-02</th>\n",
              "      <td>0.451852</td>\n",
              "    </tr>\n",
              "    <tr>\n",
              "      <th>2018-05-03</th>\n",
              "      <td>0.425682</td>\n",
              "    </tr>\n",
              "    <tr>\n",
              "      <th>2018-05-04</th>\n",
              "      <td>0.457273</td>\n",
              "    </tr>\n",
              "    <tr>\n",
              "      <th>2018-05-05</th>\n",
              "      <td>0.239732</td>\n",
              "    </tr>\n",
              "    <tr>\n",
              "      <th>...</th>\n",
              "      <td>...</td>\n",
              "    </tr>\n",
              "    <tr>\n",
              "      <th>2020-05-27</th>\n",
              "      <td>0.381754</td>\n",
              "    </tr>\n",
              "    <tr>\n",
              "      <th>2020-05-28</th>\n",
              "      <td>0.329623</td>\n",
              "    </tr>\n",
              "    <tr>\n",
              "      <th>2020-05-29</th>\n",
              "      <td>0.255556</td>\n",
              "    </tr>\n",
              "    <tr>\n",
              "      <th>2020-05-30</th>\n",
              "      <td>0.149715</td>\n",
              "    </tr>\n",
              "    <tr>\n",
              "      <th>2020-05-31</th>\n",
              "      <td>0.198729</td>\n",
              "    </tr>\n",
              "  </tbody>\n",
              "</table>\n",
              "<p>762 rows × 1 columns</p>\n",
              "</div><br><label><b>dtype:</b> float64</label>"
            ]
          },
          "metadata": {},
          "execution_count": 33
        }
      ],
      "source": [
        "periodos=df['CO']['2018-05' : '2020-05'] #Localiza periodos de tiempo\n",
        "periodos"
      ]
    },
    {
      "cell_type": "code",
      "execution_count": 35,
      "id": "f5ac407b",
      "metadata": {
        "id": "f5ac407b",
        "outputId": "9e71dab8-6515-46d3-feaa-1c87f2259316",
        "colab": {
          "base_uri": "https://localhost:8080/",
          "height": 475
        }
      },
      "outputs": [
        {
          "output_type": "display_data",
          "data": {
            "text/plain": [
              "<Figure size 1000x500 with 1 Axes>"
            ],
            "image/png": "[encoded data removed]"
          },
          "metadata": {}
        }
      ],
      "source": [
        "fig, ax = plt.subplots(figsize=(10,5),dpi=100)\n",
        "ax.plot(df['CO'], color='black',lw=0.6);\n",
        "ax.tick_params(labelsize=14)\n",
        "ax.set_xlabel('Tiempo', fontdict = {'fontsize':14 })\n",
        "ax.set_ylabel('CO ($\\mu$g/$m^3$)', fontdict = {'fontsize':14 });\n",
        "ax.grid(True)"
      ]
    },
    {
      "cell_type": "markdown",
      "id": "cb35d316",
      "metadata": {
        "id": "cb35d316"
      },
      "source": [
        "**Ejercicio:** Realice las gráficas de 2 contaminantes"
      ]
    },
    {
      "cell_type": "code",
      "execution_count": 37,
      "id": "922102c5-1bb5-416a-9af6-595c5fbfa6bf",
      "metadata": {
        "id": "922102c5-1bb5-416a-9af6-595c5fbfa6bf",
        "colab": {
          "base_uri": "https://localhost:8080/",
          "height": 480
        },
        "outputId": "2f179b4a-853a-427f-82e2-b10c6804982a"
      },
      "outputs": [
        {
          "output_type": "display_data",
          "data": {
            "text/plain": [
              "<Figure size 1000x500 with 1 Axes>"
            ],
            "image/png": "[encoded data removed]"
          },
          "metadata": {}
        }
      ],
      "source": [
        "fig, ax = plt.subplots(figsize=(10,5),dpi=100) #Gráfica del contaminente PM10\n",
        "ax.plot(df['PM10'], color='blue',lw=0.6);\n",
        "ax.tick_params(labelsize=14)\n",
        "ax.set_xlabel('Tiempo', fontdict = {'fontsize':14 })\n",
        "ax.set_ylabel('PM25 ($\\mu$g/$m^3$)', fontdict = {'fontsize':14 });"
      ]
    },
    {
      "cell_type": "code",
      "execution_count": 38,
      "id": "31368006",
      "metadata": {
        "id": "31368006",
        "outputId": "ebd4583e-cd2d-48a1-8403-893b4a1c7794",
        "colab": {
          "base_uri": "https://localhost:8080/",
          "height": 475
        }
      },
      "outputs": [
        {
          "output_type": "display_data",
          "data": {
            "text/plain": [
              "<Figure size 1000x500 with 1 Axes>"
            ],
            "image/png": "[encoded data removed]"
          },
          "metadata": {}
        }
      ],
      "source": [
        "fig, ax = plt.subplots(figsize=(10,5),dpi=100) #Gráfica del contaminente PM25\n",
        "ax.plot(df['PM25'], color='red',lw=0.6);\n",
        "ax.tick_params(labelsize=14)\n",
        "ax.set_xlabel('Tiempo', fontdict = {'fontsize':14 })\n",
        "ax.set_ylabel('PM25 ($\\mu$g/$m^3$)', fontdict = {'fontsize':14 });"
      ]
    },
    {
      "cell_type": "markdown",
      "id": "8c8ff151",
      "metadata": {
        "id": "8c8ff151"
      },
      "source": [
        "**Ejercicio:** La OMS estableció un nivel recomendado de 25 $\\mu$g/$m^3$ (media de 24 horas) para las concentraciones de PM$_{2.5}$. ¿En qué dias se rebasó el nivel recomendado en 2022?"
      ]
    },
    {
      "cell_type": "code",
      "execution_count": 40,
      "id": "73bef8c4",
      "metadata": {
        "id": "73bef8c4",
        "outputId": "077eace8-0dd1-4622-f825-14f513225231",
        "colab": {
          "base_uri": "https://localhost:8080/",
          "height": 490
        }
      },
      "outputs": [
        {
          "output_type": "execute_result",
          "data": {
            "text/plain": [
              "fecha\n",
              "2022-01-01    58.414835\n",
              "2022-01-03    28.670588\n",
              "2022-01-04    32.527687\n",
              "2022-01-05    27.703125\n",
              "2022-01-06    25.186747\n",
              "                ...    \n",
              "2022-12-20    29.639394\n",
              "2022-12-22    27.008523\n",
              "2022-12-23    25.591549\n",
              "2022-12-24    26.856397\n",
              "2022-12-25    37.955224\n",
              "Name: PM25, Length: 75, dtype: float64"
            ],
            "text/html": [
              "<div>\n",
              "<style scoped>\n",
              "    .dataframe tbody tr th:only-of-type {\n",
              "        vertical-align: middle;\n",
              "    }\n",
              "\n",
              "    .dataframe tbody tr th {\n",
              "        vertical-align: top;\n",
              "    }\n",
              "\n",
              "    .dataframe thead th {\n",
              "        text-align: right;\n",
              "    }\n",
              "</style>\n",
              "<table border=\"1\" class=\"dataframe\">\n",
              "  <thead>\n",
              "    <tr style=\"text-align: right;\">\n",
              "      <th></th>\n",
              "      <th>PM25</th>\n",
              "    </tr>\n",
              "    <tr>\n",
              "      <th>fecha</th>\n",
              "      <th></th>\n",
              "    </tr>\n",
              "  </thead>\n",
              "  <tbody>\n",
              "    <tr>\n",
              "      <th>2022-01-01</th>\n",
              "      <td>58.414835</td>\n",
              "    </tr>\n",
              "    <tr>\n",
              "      <th>2022-01-03</th>\n",
              "      <td>28.670588</td>\n",
              "    </tr>\n",
              "    <tr>\n",
              "      <th>2022-01-04</th>\n",
              "      <td>32.527687</td>\n",
              "    </tr>\n",
              "    <tr>\n",
              "      <th>2022-01-05</th>\n",
              "      <td>27.703125</td>\n",
              "    </tr>\n",
              "    <tr>\n",
              "      <th>2022-01-06</th>\n",
              "      <td>25.186747</td>\n",
              "    </tr>\n",
              "    <tr>\n",
              "      <th>...</th>\n",
              "      <td>...</td>\n",
              "    </tr>\n",
              "    <tr>\n",
              "      <th>2022-12-20</th>\n",
              "      <td>29.639394</td>\n",
              "    </tr>\n",
              "    <tr>\n",
              "      <th>2022-12-22</th>\n",
              "      <td>27.008523</td>\n",
              "    </tr>\n",
              "    <tr>\n",
              "      <th>2022-12-23</th>\n",
              "      <td>25.591549</td>\n",
              "    </tr>\n",
              "    <tr>\n",
              "      <th>2022-12-24</th>\n",
              "      <td>26.856397</td>\n",
              "    </tr>\n",
              "    <tr>\n",
              "      <th>2022-12-25</th>\n",
              "      <td>37.955224</td>\n",
              "    </tr>\n",
              "  </tbody>\n",
              "</table>\n",
              "<p>75 rows × 1 columns</p>\n",
              "</div><br><label><b>dtype:</b> float64</label>"
            ]
          },
          "metadata": {},
          "execution_count": 40
        }
      ],
      "source": [
        "df['PM25']['2022-01-01':'2022-12-31'][df['PM25']>25] #Fechas en que las PM25 pasaron los 25 de concentración"
      ]
    },
    {
      "cell_type": "code",
      "execution_count": 42,
      "id": "197ffb96",
      "metadata": {
        "id": "197ffb96",
        "outputId": "5e341a88-b29e-47a5-c232-96e3e53de616",
        "colab": {
          "base_uri": "https://localhost:8080/",
          "height": 475
        }
      },
      "outputs": [
        {
          "output_type": "display_data",
          "data": {
            "text/plain": [
              "<Figure size 1000x500 with 1 Axes>"
            ],
            "image/png": "[encoded data removed]"
          },
          "metadata": {}
        }
      ],
      "source": [
        "fig, ax = plt.subplots(figsize=(10,5),dpi=100)   #Gráfica de los dias en que se rebaso el nivel recomendado\n",
        "ax.plot(df['PM25']['2022-01-01':'2022-12-31'], color='black',lw=0.6);\n",
        "ax.tick_params(labelsize=14)\n",
        "ax.set_xlabel('Tiempo', fontdict = {'fontsize':14 })\n",
        "ax.set_ylabel('PM25 ($\\mu$g/$m^3$)', fontdict = {'fontsize':14 });\n",
        "ax.axhline(25,color='yellow',lw=2,linestyle='--')\n",
        "plt.show()"
      ]
    }
  ],
  "metadata": {
    "kernelspec": {
      "display_name": "Python 3 (ipykernel)",
      "language": "python",
      "name": "python3"
    },
    "language_info": {
      "codemirror_mode": {
        "name": "ipython",
        "version": 3
      },
      "file_extension": ".py",
      "mimetype": "text/x-python",
      "name": "python",
      "nbconvert_exporter": "python",
      "pygments_lexer": "ipython3",
      "version": "3.11.3"
    },
    "colab": {
      "provenance": []
    }
  },
  "nbformat": 4,
  "nbformat_minor": 5
}